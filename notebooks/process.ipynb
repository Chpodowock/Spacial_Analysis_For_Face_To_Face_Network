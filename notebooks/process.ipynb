{
 "cells": [
  {
   "cell_type": "code",
   "execution_count": null,
   "id": "5fa16ac7-51a9-4e8f-89df-f83299e3b3ca",
   "metadata": {},
   "outputs": [],
   "source": []
  },
  {
   "cell_type": "code",
   "execution_count": 1,
   "id": "c03f86af-e65f-44db-89a4-0e8115cde4b3",
   "metadata": {
    "execution": {
     "iopub.execute_input": "2025-06-09T15:38:06.421241Z",
     "iopub.status.busy": "2025-06-09T15:38:06.420245Z",
     "iopub.status.idle": "2025-06-09T15:38:06.435203Z",
     "shell.execute_reply": "2025-06-09T15:38:06.433211Z",
     "shell.execute_reply.started": "2025-06-09T15:38:06.421241Z"
    }
   },
   "outputs": [],
   "source": [
    "#pip install scipy\n",
    "#pip install shapely\n",
    "#pip install dash\n",
    "#pip install networkx\n",
    "#pip install scikit-learn"
   ]
  },
  {
   "cell_type": "markdown",
   "id": "21d32b7f-71b6-4215-82cb-8eee3f3480bc",
   "metadata": {},
   "source": [
    "# 🚀 Experiment Execution Flow"
   ]
  },
  {
   "cell_type": "code",
   "execution_count": 2,
   "id": "831d7e2c-19ec-4630-8c76-5a94d7ff1de9",
   "metadata": {
    "execution": {
     "iopub.execute_input": "2025-06-09T15:38:06.437198Z",
     "iopub.status.busy": "2025-06-09T15:38:06.436202Z",
     "iopub.status.idle": "2025-06-09T15:38:22.220413Z",
     "shell.execute_reply": "2025-06-09T15:38:22.219416Z",
     "shell.execute_reply.started": "2025-06-09T15:38:06.437198Z"
    },
    "tags": []
   },
   "outputs": [
    {
     "name": "stdout",
     "output_type": "stream",
     "text": [
      "✅ Loaded experiment definition from experiments_config.json\n",
      "✅ Loaded contact data file: tij_with_readers_WS16.dat\n",
      "✅ Converted and renamed 'readers' column to 'signature'.\n",
      "✅ Loaded periods file: periodes_WS16.dat\n",
      "🔄 Synchronizing periods for WS16 (offset: 1h)...\n",
      "✅ Loaded plan 'Foyer' (3309x2339) with 3 readers\n",
      "✅ Loaded plan 'MainRoom' (3309x2339) with 2 readers\n",
      "✅ Loaded plan 'PosterRoomStairs' (3309x2339) with 1 readers\n",
      "✅ Loaded plan 'PosterRoom' (3309x2339) with 2 readers\n",
      "✅ Computed 37 signatures.\n",
      "✅ DisplayManager initialized with Plotter, Matrixer, and Networker.\n",
      "✅ Mapper initialized with 4 plans.\n"
     ]
    }
   ],
   "source": [
    "import sys\n",
    "from pathlib import Path\n",
    "\n",
    "base_dir = Path.cwd().parent\n",
    "src_path = base_dir / \"src\"\n",
    "\n",
    "if str(src_path) not in sys.path:\n",
    "    sys.path.append(str(src_path))\n",
    "\n",
    "    \n",
    "from project_setup import (\n",
    "    setup_paths,\n",
    "    load_experiments_dict,\n",
    "    import_and_reload_modules\n",
    ")\n",
    "\n",
    "# Set paths and load experiments\n",
    "base_dir, src_path = setup_paths()\n",
    "experiments_definition = load_experiments_dict(\"experiments_config.json\")\n",
    "\n",
    "# Import project classes\n",
    "WorldModel, DisplayManager, MatrixSimilarity, NetworkManager = import_and_reload_modules()\n",
    "\n",
    "# Plotly settings\n",
    "import plotly.io as pio\n",
    "pio.renderers.default = \"iframe_connected\"\n",
    "\n",
    "# Experiment configuration\n",
    "experiment_id = \"WS16\"\n",
    "experiment_display_scale = {\n",
    "    \"ECIR19\": 0.28,\n",
    "    \"ECSS18\": 0.15,\n",
    "    \"ICCSS17\": 0.3,\n",
    "    \"WS16\": 0.15\n",
    "}\n",
    "\n",
    "# Initialize world & displayer\n",
    "world = WorldModel(experiment_id, experiments_definition, base_dir)\n",
    "world.initialize()\n",
    "\n",
    "Displayer = DisplayManager(world)\n"
   ]
  },
  {
   "cell_type": "markdown",
   "id": "0a859a00-0ba5-465e-9790-a92528ab24cc",
   "metadata": {},
   "source": [
    "## 🔄 Period Detection & Adjustment Pipeline"
   ]
  },
  {
   "cell_type": "code",
   "execution_count": 29,
   "id": "1973558c-eae5-40b4-b8e2-1fd490553485",
   "metadata": {
    "execution": {
     "iopub.execute_input": "2025-06-10T00:55:09.720119Z",
     "iopub.status.busy": "2025-06-10T00:55:09.719123Z",
     "iopub.status.idle": "2025-06-10T00:55:12.371015Z",
     "shell.execute_reply": "2025-06-10T00:55:12.369017Z",
     "shell.execute_reply.started": "2025-06-10T00:55:09.720119Z"
    },
    "tags": []
   },
   "outputs": [
    {
     "name": "stdout",
     "output_type": "stream",
     "text": [
      "🔍 Detecting transitions for WS16...\n",
      "✅ Detected 49 transitions.\n",
      "🛠️ Adjusting periods with transitions for WS16...\n",
      "✅ Final periods updated: 32 entries.\n",
      "📈 Debug Plot: Raw, Smoothed & Derivative\n"
     ]
    },
    {
     "data": {
      "text/html": [
       "<iframe\n",
       "    scrolling=\"no\"\n",
       "    width=\"100%\"\n",
       "    height=\"620\"\n",
       "    src=\"iframe_figures/figure_29.html\"\n",
       "    frameborder=\"0\"\n",
       "    allowfullscreen\n",
       "></iframe>\n"
      ]
     },
     "metadata": {},
     "output_type": "display_data"
    }
   ],
   "source": [
    "# 🔍 Detect Transitions (Activity-based)\n",
    "debug_data = world.period_manager.detect_transitions(\n",
    "    threshold_pos=0.1, threshold_neg=-0.05, smooth_sigma=2, freq=\"1min\", debug=True\n",
    ")\n",
    "if debug_data:\n",
    "    Displayer.plotter.plot_transition_debug_activity(\n",
    "        activity_series=debug_data[\"activity_series\"],\n",
    "        smoothed=debug_data[\"smoothed\"],\n",
    "        norm_derivative=debug_data[\"norm_derivative\"],\n",
    "        transition_df=debug_data[\"transition_df\"],\n",
    "        experiment_id=world.experiment_id,\n",
    "        smooth_sigma=debug_data[\"smooth_sigma\"],\n",
    "    )"
   ]
  },
  {
   "cell_type": "code",
   "execution_count": 4,
   "id": "e34020d3-eddd-43f9-82a1-800135d6ff65",
   "metadata": {
    "execution": {
     "iopub.execute_input": "2025-06-09T15:38:22.332114Z",
     "iopub.status.busy": "2025-06-09T15:38:22.331116Z",
     "iopub.status.idle": "2025-06-09T15:38:22.957751Z",
     "shell.execute_reply": "2025-06-09T15:38:22.956755Z",
     "shell.execute_reply.started": "2025-06-09T15:38:22.332114Z"
    },
    "scrolled": true,
    "tags": []
   },
   "outputs": [],
   "source": [
    "simil = MatrixSimilarity()\n",
    "activity_signature = simil.compute_activity_matrix(\n",
    "    world.period_manager.final_period_df, world.signatures\n",
    ")\n",
    "\n",
    "cosine_signature, signature_group = simil.compute_cosine_similarity(\n",
    "    activity_input=activity_signature,\n",
    "    reordered=True,\n",
    "    num_groups=8,\n",
    "    return_groups=True,\n",
    ")\n",
    "world.define_areas_by_group(signature_group)\n"
   ]
  },
  {
   "cell_type": "code",
   "execution_count": 5,
   "id": "5b8055e9-3889-4bdd-a09e-2256b32ac54c",
   "metadata": {
    "execution": {
     "iopub.execute_input": "2025-06-09T15:38:22.959744Z",
     "iopub.status.busy": "2025-06-09T15:38:22.958746Z",
     "iopub.status.idle": "2025-06-09T15:39:02.066058Z",
     "shell.execute_reply": "2025-06-09T15:39:02.065061Z",
     "shell.execute_reply.started": "2025-06-09T15:38:22.959744Z"
    },
    "tags": []
   },
   "outputs": [
    {
     "name": "stdout",
     "output_type": "stream",
     "text": [
      "✅ Assigned 138 agents with position over time.\n"
     ]
    }
   ],
   "source": [
    "world.assign_agents_to_areas_over_time(freq=\"20s\")"
   ]
  },
  {
   "cell_type": "code",
   "execution_count": 6,
   "id": "6d2c9637-fbf9-4742-a58f-64bed539452e",
   "metadata": {
    "execution": {
     "iopub.execute_input": "2025-06-09T15:39:02.067055Z",
     "iopub.status.busy": "2025-06-09T15:39:02.067055Z",
     "iopub.status.idle": "2025-06-09T15:39:12.250622Z",
     "shell.execute_reply": "2025-06-09T15:39:12.249624Z",
     "shell.execute_reply.started": "2025-06-09T15:39:02.067055Z"
    }
   },
   "outputs": [],
   "source": [
    "world.compute_active_agent_to_area()"
   ]
  },
  {
   "cell_type": "code",
   "execution_count": 7,
   "id": "1038f1d5-3a9f-4371-ab12-45798fe460e3",
   "metadata": {
    "execution": {
     "iopub.execute_input": "2025-06-09T15:39:12.252618Z",
     "iopub.status.busy": "2025-06-09T15:39:12.251619Z",
     "iopub.status.idle": "2025-06-09T15:39:14.648958Z",
     "shell.execute_reply": "2025-06-09T15:39:14.647962Z",
     "shell.execute_reply.started": "2025-06-09T15:39:12.252618Z"
    }
   },
   "outputs": [],
   "source": [
    "Networker = NetworkManager()\n",
    "Networker.build_area_transition_graph(world)\n",
    "Networker.build_temporal_area_transition_graphs(world)"
   ]
  },
  {
   "cell_type": "code",
   "execution_count": 8,
   "id": "24df6bb6-a303-44c1-af37-881eb30c8739",
   "metadata": {
    "execution": {
     "iopub.execute_input": "2025-06-09T15:39:14.649956Z",
     "iopub.status.busy": "2025-06-09T15:39:14.649956Z",
     "iopub.status.idle": "2025-06-09T15:39:39.337537Z",
     "shell.execute_reply": "2025-06-09T15:39:39.337537Z",
     "shell.execute_reply.started": "2025-06-09T15:39:14.649956Z"
    }
   },
   "outputs": [
    {
     "name": "stdout",
     "output_type": "stream",
     "text": [
      "✅ Built fixed-window temporal contact graphs in all Area objects.\n"
     ]
    }
   ],
   "source": [
    "Networker.build_temporal_agent_graphs_by_area(world,'20s')"
   ]
  },
  {
   "cell_type": "code",
   "execution_count": 9,
   "id": "cccc952b-02fd-4057-9877-8adb44343d12",
   "metadata": {
    "execution": {
     "iopub.execute_input": "2025-06-09T15:39:39.339533Z",
     "iopub.status.busy": "2025-06-09T15:39:39.338534Z",
     "iopub.status.idle": "2025-06-09T15:39:44.028214Z",
     "shell.execute_reply": "2025-06-09T15:39:44.026223Z",
     "shell.execute_reply.started": "2025-06-09T15:39:39.339533Z"
    }
   },
   "outputs": [
    {
     "data": {
      "text/html": [
       "<iframe\n",
       "    scrolling=\"no\"\n",
       "    width=\"1012.6999999999999px\"\n",
       "    height=\"721.6999999999999\"\n",
       "    src=\"iframe_figures/figure_9.html\"\n",
       "    frameborder=\"0\"\n",
       "    allowfullscreen\n",
       "></iframe>\n"
      ]
     },
     "metadata": {},
     "output_type": "display_data"
    }
   ],
   "source": [
    "Displayer.mapper.display(scale=experiment_display_scale[experiment_id])"
   ]
  },
  {
   "cell_type": "code",
   "execution_count": 10,
   "id": "d28f9a2c-f5cd-472c-b853-ea8e0639b14f",
   "metadata": {
    "execution": {
     "iopub.execute_input": "2025-06-09T15:39:44.035198Z",
     "iopub.status.busy": "2025-06-09T15:39:44.031209Z",
     "iopub.status.idle": "2025-06-09T15:39:47.597280Z",
     "shell.execute_reply": "2025-06-09T15:39:47.596282Z",
     "shell.execute_reply.started": "2025-06-09T15:39:44.035198Z"
    }
   },
   "outputs": [
    {
     "data": {
      "text/html": [
       "<iframe\n",
       "    scrolling=\"no\"\n",
       "    width=\"920px\"\n",
       "    height=\"2020\"\n",
       "    src=\"iframe_figures/figure_10.html\"\n",
       "    frameborder=\"0\"\n",
       "    allowfullscreen\n",
       "></iframe>\n"
      ]
     },
     "metadata": {},
     "output_type": "display_data"
    }
   ],
   "source": [
    "Displayer.networker.plot_node_edge_distribution_per_area(world)"
   ]
  },
  {
   "cell_type": "code",
   "execution_count": 11,
   "id": "092dcb90-e47d-4f8f-9c6c-d6915c74deb6",
   "metadata": {
    "execution": {
     "iopub.execute_input": "2025-06-09T15:39:47.600274Z",
     "iopub.status.busy": "2025-06-09T15:39:47.600274Z",
     "iopub.status.idle": "2025-06-09T15:39:47.850604Z",
     "shell.execute_reply": "2025-06-09T15:39:47.847612Z",
     "shell.execute_reply.started": "2025-06-09T15:39:47.600274Z"
    }
   },
   "outputs": [
    {
     "data": {
      "text/html": [
       "<iframe\n",
       "    scrolling=\"no\"\n",
       "    width=\"100%\"\n",
       "    height=\"545px\"\n",
       "    src=\"iframe_figures/figure_11.html\"\n",
       "    frameborder=\"0\"\n",
       "    allowfullscreen\n",
       "></iframe>\n"
      ]
     },
     "metadata": {},
     "output_type": "display_data"
    }
   ],
   "source": [
    "Displayer.networker.plot_area_transition_sankey(Networker.area_transition_graph,world)"
   ]
  },
  {
   "cell_type": "code",
   "execution_count": 12,
   "id": "64395ea4-16ac-419c-be14-e384f58326d4",
   "metadata": {
    "execution": {
     "iopub.execute_input": "2025-06-09T15:39:47.856588Z",
     "iopub.status.busy": "2025-06-09T15:39:47.855590Z",
     "iopub.status.idle": "2025-06-09T15:39:48.021146Z",
     "shell.execute_reply": "2025-06-09T15:39:48.020148Z",
     "shell.execute_reply.started": "2025-06-09T15:39:47.856588Z"
    }
   },
   "outputs": [
    {
     "name": "stdout",
     "output_type": "stream",
     "text": [
      "✅ Computed entropy for 138 agents.\n"
     ]
    }
   ],
   "source": [
    "world.compute_agents_entropies()"
   ]
  },
  {
   "cell_type": "code",
   "execution_count": 13,
   "id": "ee7f4717-8b27-4e02-8b2e-7288f3c0de5a",
   "metadata": {
    "execution": {
     "iopub.execute_input": "2025-06-09T15:39:48.022143Z",
     "iopub.status.busy": "2025-06-09T15:39:48.022143Z",
     "iopub.status.idle": "2025-06-09T15:39:48.146809Z",
     "shell.execute_reply": "2025-06-09T15:39:48.145813Z",
     "shell.execute_reply.started": "2025-06-09T15:39:48.022143Z"
    }
   },
   "outputs": [
    {
     "data": {
      "text/html": [
       "<iframe\n",
       "    scrolling=\"no\"\n",
       "    width=\"100%\"\n",
       "    height=\"470\"\n",
       "    src=\"iframe_figures/figure_13.html\"\n",
       "    frameborder=\"0\"\n",
       "    allowfullscreen\n",
       "></iframe>\n"
      ]
     },
     "metadata": {},
     "output_type": "display_data"
    }
   ],
   "source": [
    "Displayer.plotter.plot_agent_entropy_distribution(world.agents)"
   ]
  },
  {
   "cell_type": "code",
   "execution_count": 14,
   "id": "8c016d47-d862-4272-ba56-0ec86ce9b6ed",
   "metadata": {
    "execution": {
     "iopub.execute_input": "2025-06-09T15:39:48.148807Z",
     "iopub.status.busy": "2025-06-09T15:39:48.147807Z",
     "iopub.status.idle": "2025-06-09T15:39:48.272474Z",
     "shell.execute_reply": "2025-06-09T15:39:48.271476Z",
     "shell.execute_reply.started": "2025-06-09T15:39:48.148807Z"
    }
   },
   "outputs": [
    {
     "data": {
      "text/html": [
       "\n",
       "        <iframe\n",
       "            width=\"100%\"\n",
       "            height=\"650\"\n",
       "            src=\"http://127.0.0.1:8050/\"\n",
       "            frameborder=\"0\"\n",
       "            allowfullscreen\n",
       "            \n",
       "        ></iframe>\n",
       "        "
      ],
      "text/plain": [
       "<IPython.lib.display.IFrame at 0x28055ec8b50>"
      ]
     },
     "metadata": {},
     "output_type": "display_data"
    }
   ],
   "source": [
    "# === 🔄 Networker Method ===\n",
    "Displayer.networker.run_dash(Networker.area_transition_graph)"
   ]
  },
  {
   "cell_type": "code",
   "execution_count": 24,
   "id": "175c0f52-a4ec-4c59-a8f8-8321b3461ac8",
   "metadata": {
    "execution": {
     "iopub.execute_input": "2025-06-10T00:50:09.938483Z",
     "iopub.status.busy": "2025-06-10T00:50:09.937485Z",
     "iopub.status.idle": "2025-06-10T00:50:12.220613Z",
     "shell.execute_reply": "2025-06-10T00:50:12.219616Z",
     "shell.execute_reply.started": "2025-06-10T00:50:09.938483Z"
    }
   },
   "outputs": [
    {
     "data": {
      "text/html": [
       "<iframe\n",
       "    scrolling=\"no\"\n",
       "    width=\"100%\"\n",
       "    height=\"620\"\n",
       "    src=\"iframe_figures/figure_24.html\"\n",
       "    frameborder=\"0\"\n",
       "    allowfullscreen\n",
       "></iframe>\n"
      ]
     },
     "metadata": {},
     "output_type": "display_data"
    }
   ],
   "source": [
    "# === 📈 Plotter Methods ===\n",
    "Displayer.plotter.plot_normalized_activity(\n",
    "    entities=world.areas,\n",
    "    experiment_id=world.experiment_id,\n",
    "    mode_label=\"areas\",\n",
    "    title_suffix=\"\",\n",
    "    show_total=True,\n",
    "    sort_by_activity=True,\n",
    "    df_period=world.period_manager.final_period_df,\n",
    ")"
   ]
  },
  {
   "cell_type": "code",
   "execution_count": 25,
   "id": "58da5c0b-b62a-4792-9b0a-f9e8288cb6ad",
   "metadata": {
    "execution": {
     "iopub.execute_input": "2025-06-10T00:50:19.041322Z",
     "iopub.status.busy": "2025-06-10T00:50:19.041322Z",
     "iopub.status.idle": "2025-06-10T00:50:19.253341Z",
     "shell.execute_reply": "2025-06-10T00:50:19.252342Z",
     "shell.execute_reply.started": "2025-06-10T00:50:19.041322Z"
    }
   },
   "outputs": [
    {
     "data": {
      "text/html": [
       "<iframe\n",
       "    scrolling=\"no\"\n",
       "    width=\"100%\"\n",
       "    height=\"720\"\n",
       "    src=\"iframe_figures/figure_25.html\"\n",
       "    frameborder=\"0\"\n",
       "    allowfullscreen\n",
       "></iframe>\n"
      ]
     },
     "metadata": {},
     "output_type": "display_data"
    }
   ],
   "source": [
    "Displayer.plotter.plot_signature_distributions()"
   ]
  },
  {
   "cell_type": "code",
   "execution_count": 27,
   "id": "2642c510-5dce-434c-997f-027154459fb5",
   "metadata": {
    "execution": {
     "iopub.execute_input": "2025-06-10T00:50:34.371616Z",
     "iopub.status.busy": "2025-06-10T00:50:34.370618Z",
     "iopub.status.idle": "2025-06-10T00:50:35.231353Z",
     "shell.execute_reply": "2025-06-10T00:50:35.228361Z",
     "shell.execute_reply.started": "2025-06-10T00:50:34.371616Z"
    }
   },
   "outputs": [
    {
     "name": "stdout",
     "output_type": "stream",
     "text": [
      "\n",
      "🧭 WorldModel Report — Experiment: WS16\n",
      "═══════════════════════════════════════════════\n",
      "📊 Contacts: 153371 rows × 5 columns\n",
      "🗺️ Plans loaded: 4\n",
      "📡 Readers registered: 8\n",
      "🔗 Signatures computed: 37\n",
      "═══════════════════════════════════════════════\n",
      "\n",
      "🔎 Sample Data (df.head()):\n"
     ]
    },
    {
     "data": {
      "text/html": [
       "<div>\n",
       "<style scoped>\n",
       "    .dataframe tbody tr th:only-of-type {\n",
       "        vertical-align: middle;\n",
       "    }\n",
       "\n",
       "    .dataframe tbody tr th {\n",
       "        vertical-align: top;\n",
       "    }\n",
       "\n",
       "    .dataframe thead th {\n",
       "        text-align: right;\n",
       "    }\n",
       "</style>\n",
       "<table border=\"1\" class=\"dataframe\">\n",
       "  <thead>\n",
       "    <tr style=\"text-align: right;\">\n",
       "      <th></th>\n",
       "      <th>t</th>\n",
       "      <th>i</th>\n",
       "      <th>j</th>\n",
       "      <th>signature</th>\n",
       "      <th>datetime</th>\n",
       "    </tr>\n",
       "  </thead>\n",
       "  <tbody>\n",
       "    <tr>\n",
       "      <th>0</th>\n",
       "      <td>1480486100</td>\n",
       "      <td>598</td>\n",
       "      <td>1492</td>\n",
       "      <td>[005]</td>\n",
       "      <td>2016-11-30 06:08:20</td>\n",
       "    </tr>\n",
       "    <tr>\n",
       "      <th>1</th>\n",
       "      <td>1480486100</td>\n",
       "      <td>1159</td>\n",
       "      <td>1312</td>\n",
       "      <td>[005]</td>\n",
       "      <td>2016-11-30 06:08:20</td>\n",
       "    </tr>\n",
       "    <tr>\n",
       "      <th>2</th>\n",
       "      <td>1480486100</td>\n",
       "      <td>1168</td>\n",
       "      <td>1492</td>\n",
       "      <td>[005]</td>\n",
       "      <td>2016-11-30 06:08:20</td>\n",
       "    </tr>\n",
       "    <tr>\n",
       "      <th>3</th>\n",
       "      <td>1480486120</td>\n",
       "      <td>1159</td>\n",
       "      <td>1492</td>\n",
       "      <td>[005]</td>\n",
       "      <td>2016-11-30 06:08:40</td>\n",
       "    </tr>\n",
       "    <tr>\n",
       "      <th>4</th>\n",
       "      <td>1480486160</td>\n",
       "      <td>598</td>\n",
       "      <td>1492</td>\n",
       "      <td>[005]</td>\n",
       "      <td>2016-11-30 06:09:20</td>\n",
       "    </tr>\n",
       "  </tbody>\n",
       "</table>\n",
       "</div>"
      ],
      "text/plain": [
       "            t     i     j signature            datetime\n",
       "0  1480486100   598  1492     [005] 2016-11-30 06:08:20\n",
       "1  1480486100  1159  1312     [005] 2016-11-30 06:08:20\n",
       "2  1480486100  1168  1492     [005] 2016-11-30 06:08:20\n",
       "3  1480486120  1159  1492     [005] 2016-11-30 06:08:40\n",
       "4  1480486160   598  1492     [005] 2016-11-30 06:09:20"
      ]
     },
     "metadata": {},
     "output_type": "display_data"
    },
    {
     "data": {
      "text/markdown": [
       "\n",
       "        ### 🧪 Experiment Summary — WS16\n",
       "    \n",
       "        | Metric                            | Value                       |\n",
       "        |------------------------------------|-----------------------------|\n",
       "        | 📊 Total contacts                  | `153371`          |\n",
       "        | 📡 Unique readers                  | `8`      |\n",
       "        | 🔁 Avg readers per signature       | `3.20` |\n",
       "        | 🔼 Max readers in one signature    | `5`             |\n",
       "        | 🔽 Min readers in one signature    | `1`             |\n",
       "        | 📡 Unique signatures               | `37`       |\n",
       "    \n",
       "        **Reader IDs:**  \n",
       "        `005, 013, 014, 015, 016, 074, 075, 078`\n",
       "        "
      ],
      "text/plain": [
       "<IPython.core.display.Markdown object>"
      ]
     },
     "metadata": {},
     "output_type": "display_data"
    },
    {
     "data": {
      "text/html": [
       "<iframe\n",
       "    scrolling=\"no\"\n",
       "    width=\"100%\"\n",
       "    height=\"520\"\n",
       "    src=\"iframe_figures/figure_27.html\"\n",
       "    frameborder=\"0\"\n",
       "    allowfullscreen\n",
       "></iframe>\n"
      ]
     },
     "metadata": {},
     "output_type": "display_data"
    },
    {
     "name": "stdout",
     "output_type": "stream",
     "text": [
      "\n",
      "✅ Report completed for WS16\n"
     ]
    }
   ],
   "source": [
    "Displayer.plotter.periods_df = world.period_manager.final_period_df\n",
    "Displayer.plotter.report_world_model()"
   ]
  },
  {
   "cell_type": "code",
   "execution_count": 28,
   "id": "d338b8bf-eaaf-4d73-a922-2c9222b1cefa",
   "metadata": {
    "execution": {
     "iopub.execute_input": "2025-06-10T00:50:48.791334Z",
     "iopub.status.busy": "2025-06-10T00:50:48.790336Z",
     "iopub.status.idle": "2025-06-10T00:50:48.930290Z",
     "shell.execute_reply": "2025-06-10T00:50:48.926402Z",
     "shell.execute_reply.started": "2025-06-10T00:50:48.791334Z"
    }
   },
   "outputs": [
    {
     "name": "stdout",
     "output_type": "stream",
     "text": [
      "\n",
      "📝 Period Report — WS16\n",
      "═══════════════════════════════════════════════\n",
      "⏱️ Total timeline duration: 1222.00 minutes\n",
      "\n",
      "📊 Duration breakdown by period type:\n",
      "  - High Activity: 540.33 min\n",
      "  - Low Activity: 555.67 min\n",
      "  - Up Transitions: 59.00 min\n",
      "  - Down Transitions: 67.00 min\n"
     ]
    },
    {
     "data": {
      "text/html": [
       "<iframe\n",
       "    scrolling=\"no\"\n",
       "    width=\"100%\"\n",
       "    height=\"520\"\n",
       "    src=\"iframe_figures/figure_28.html\"\n",
       "    frameborder=\"0\"\n",
       "    allowfullscreen\n",
       "></iframe>\n"
      ]
     },
     "metadata": {},
     "output_type": "display_data"
    }
   ],
   "source": [
    "Displayer.plotter.report_periods()"
   ]
  },
  {
   "cell_type": "code",
   "execution_count": 22,
   "id": "f97ee5aa-68ca-4fa5-ba05-f1d8b357b970",
   "metadata": {
    "execution": {
     "iopub.execute_input": "2025-06-09T18:36:09.223830Z",
     "iopub.status.busy": "2025-06-09T18:36:09.222823Z",
     "iopub.status.idle": "2025-06-09T18:36:09.755146Z",
     "shell.execute_reply": "2025-06-09T18:36:09.753150Z",
     "shell.execute_reply.started": "2025-06-09T18:36:09.223830Z"
    }
   },
   "outputs": [
    {
     "data": {
      "text/html": [
       "<iframe\n",
       "    scrolling=\"no\"\n",
       "    width=\"100%\"\n",
       "    height=\"620\"\n",
       "    src=\"iframe_figures/figure_22.html\"\n",
       "    frameborder=\"0\"\n",
       "    allowfullscreen\n",
       "></iframe>\n"
      ]
     },
     "metadata": {},
     "output_type": "display_data"
    }
   ],
   "source": [
    "Displayer.matrixer.plot_activity_matrix(\n",
    "        matrix=activity_signature,\n",
    "        title=f\"Activity Matrix — Experiment: {experiment_id}\",\n",
    "        xlabel=\"Period\",\n",
    "        ylabel=\"Entity\",\n",
    "        cmap=\"Viridis\",\n",
    "        linewidth=0.5,\n",
    "        linecolor=\"gray\",\n",
    "        annot=False,\n",
    "        fmt=\".0f\",\n",
    "    )\n"
   ]
  },
  {
   "cell_type": "code",
   "execution_count": 23,
   "id": "973df5e6-e98a-4160-a233-9d3d64509de1",
   "metadata": {
    "execution": {
     "iopub.execute_input": "2025-06-09T18:36:09.917966Z",
     "iopub.status.busy": "2025-06-09T18:36:09.917966Z",
     "iopub.status.idle": "2025-06-09T18:36:10.765912Z",
     "shell.execute_reply": "2025-06-09T18:36:10.764916Z",
     "shell.execute_reply.started": "2025-06-09T18:36:09.917966Z"
    }
   },
   "outputs": [
    {
     "data": {
      "text/html": [
       "<iframe\n",
       "    scrolling=\"no\"\n",
       "    width=\"100%\"\n",
       "    height=\"620\"\n",
       "    src=\"iframe_figures/figure_23.html\"\n",
       "    frameborder=\"0\"\n",
       "    allowfullscreen\n",
       "></iframe>\n"
      ]
     },
     "metadata": {},
     "output_type": "display_data"
    }
   ],
   "source": [
    "\n",
    "\n",
    "Displayer.matrixer.plot_cosine_similarity_matrix(\n",
    "    cos_sim_df=cosine_signature,\n",
    "    title=f\"Cosine Similarity Between Signatures — Experiment: {experiment_id}\",\n",
    "    cmap=\"Viridis\",\n",
    "    linewidth=0.5,\n",
    "    linecolor=\"gray\",\n",
    "    annot=False,\n",
    "    fmt=\".2f\",\n",
    ")"
   ]
  },
  {
   "cell_type": "code",
   "execution_count": 17,
   "id": "51614ac6-7df9-4e33-be4c-47c17d1fd9b7",
   "metadata": {
    "execution": {
     "iopub.execute_input": "2025-06-09T15:39:52.992405Z",
     "iopub.status.busy": "2025-06-09T15:39:52.990409Z",
     "iopub.status.idle": "2025-06-09T15:40:16.436312Z",
     "shell.execute_reply": "2025-06-09T15:40:16.435314Z",
     "shell.execute_reply.started": "2025-06-09T15:39:52.991406Z"
    }
   },
   "outputs": [
    {
     "data": {
      "text/html": [
       "<iframe\n",
       "    scrolling=\"no\"\n",
       "    width=\"1012.6999999999999px\"\n",
       "    height=\"721.6999999999999\"\n",
       "    src=\"iframe_figures/figure_17.html\"\n",
       "    frameborder=\"0\"\n",
       "    allowfullscreen\n",
       "></iframe>\n"
      ]
     },
     "metadata": {},
     "output_type": "display_data"
    },
    {
     "data": {
      "text/html": [
       "<iframe\n",
       "    scrolling=\"no\"\n",
       "    width=\"1012.6999999999999px\"\n",
       "    height=\"721.6999999999999\"\n",
       "    src=\"iframe_figures/figure_17.html\"\n",
       "    frameborder=\"0\"\n",
       "    allowfullscreen\n",
       "></iframe>\n"
      ]
     },
     "metadata": {},
     "output_type": "display_data"
    }
   ],
   "source": [
    "# === 🗺️ Mapper Methods ===\n",
    "Displayer.mapper.display(scale=experiment_display_scale[experiment_id])\n",
    "\n",
    "Displayer.mapper.plot_animated_signature_activity(\n",
    "    grid_size=(20, 20),\n",
    "    sigma=0.4,\n",
    "    scale=experiment_display_scale[experiment_id],\n",
    "    heatmap_opacity=0.8,\n",
    "    time_bin=\"30min\"\n",
    ")\n"
   ]
  }
 ],
 "metadata": {
  "kernelspec": {
   "display_name": "Python 3 (ipykernel)",
   "language": "python",
   "name": "python3"
  },
  "language_info": {
   "codemirror_mode": {
    "name": "ipython",
    "version": 3
   },
   "file_extension": ".py",
   "mimetype": "text/x-python",
   "name": "python",
   "nbconvert_exporter": "python",
   "pygments_lexer": "ipython3",
   "version": "3.9.21"
  },
  "toc-autonumbering": true
 },
 "nbformat": 4,
 "nbformat_minor": 5
}
