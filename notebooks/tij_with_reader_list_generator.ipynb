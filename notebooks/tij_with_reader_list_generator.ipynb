{
 "cells": [
  {
   "cell_type": "code",
   "execution_count": 1,
   "id": "6105c1a2-4e93-4b65-8663-a70b6b95bb9e",
   "metadata": {
    "execution": {
     "iopub.execute_input": "2025-05-21T12:31:38.297253Z",
     "iopub.status.busy": "2025-05-21T12:31:38.297253Z",
     "iopub.status.idle": "2025-05-21T12:31:39.093701Z",
     "shell.execute_reply": "2025-05-21T12:31:39.093177Z",
     "shell.execute_reply.started": "2025-05-21T12:31:38.297253Z"
    }
   },
   "outputs": [],
   "source": [
    "import pandas as pd\n",
    "from pathlib import Path\n",
    "from datetime import datetime\n",
    "import time\n",
    "from tqdm import tqdm\n"
   ]
  },
  {
   "cell_type": "code",
   "execution_count": 2,
   "id": "6c7dfd18-d46c-412c-a87d-9d075cd61660",
   "metadata": {
    "execution": {
     "iopub.execute_input": "2025-05-21T12:31:39.095731Z",
     "iopub.status.busy": "2025-05-21T12:31:39.093701Z",
     "iopub.status.idle": "2025-05-21T12:31:39.101615Z",
     "shell.execute_reply": "2025-05-21T12:31:39.100897Z",
     "shell.execute_reply.started": "2025-05-21T12:31:39.095731Z"
    }
   },
   "outputs": [],
   "source": [
    "base_dir = Path.cwd().parent\n",
    "\n",
    "# Data directories\n",
    "tij_dir = base_dir / \"data\" / \"tij\"\n",
    "readers_dir = base_dir / \"data\" / \"tij_readers\"\n",
    "results_dir = base_dir / \"data\" / \"TIJ_with_reader_list\"\n",
    "\n",
    "# File names (just the file names, not full paths)\n",
    "tij_files = [\n",
    "    \"tij_ECSS18.dat\",\n",
    "    \"tij_ECIR19.dat\",\n",
    "    \"tij_WS16.dat\",\n",
    "    \"tij_ICCSS17.dat\"\n",
    "]\n",
    "\n",
    "reader_files = [\n",
    "    \"ECSS18_w_readers_20s.csv\",\n",
    "    \"ECIR19_w_readers_20s.csv\",\n",
    "    \"WS16_w_readers_20s.csv\",\n",
    "    \"ICCSS17_w_readers.csv\"\n",
    "]\n",
    "\n",
    "# Combine into full paths\n",
    "file_path_tij = [tij_dir / fname for fname in tij_files]\n",
    "file_path_reader = [readers_dir / fname for fname in reader_files]\n"
   ]
  },
  {
   "cell_type": "code",
   "execution_count": 3,
   "id": "45841885-81c0-424d-aeb3-55a2b50e62ed",
   "metadata": {
    "execution": {
     "iopub.execute_input": "2025-05-21T12:31:39.103683Z",
     "iopub.status.busy": "2025-05-21T12:31:39.102634Z",
     "iopub.status.idle": "2025-05-21T12:31:39.147646Z",
     "shell.execute_reply": "2025-05-21T12:31:39.147646Z",
     "shell.execute_reply.started": "2025-05-21T12:31:39.103683Z"
    }
   },
   "outputs": [],
   "source": [
    "\n",
    "def compute_tij_with_readers_list(tij_path, reader_path, result_dir, pooling_interval=20):\n",
    "    \"\"\"\n",
    "    Compute a TIJ dataset with associated reader lists per contact, pooled over a fixed time interval.\n",
    "    Now includes a tqdm progress bar for contact processing.\n",
    "\n",
    "    Args:\n",
    "        tij_path (str or Path): Path to the original TIJ contact file.\n",
    "        reader_path (str or Path): Path to the reader detection file.\n",
    "        result_dir (str or Path): Output directory for the processed file.\n",
    "        pooling_interval (int): Size of the time window for pooling (default: 20 seconds).\n",
    "    \"\"\"\n",
    "\n",
    "    print(f\"\\n▶️ Processing: {tij_path} + {reader_path}\")\n",
    "    start_time = time.time()\n",
    "\n",
    "    experiment_name = Path(tij_path).stem.replace(\"tij_\", \"\")\n",
    "    Path(result_dir).mkdir(parents=True, exist_ok=True)\n",
    "    output_filename = f\"tij_with_readers_{experiment_name}.dat\"\n",
    "    output_path = Path(result_dir) / output_filename\n",
    "\n",
    "    # === Load reader data\n",
    "    try:\n",
    "        reader_data = pd.read_csv(reader_path, delimiter=\"\\t\", dtype={8: str}, low_memory=False)\n",
    "    except Exception as e:\n",
    "        print(f\"❌ Failed to load reader file: {e}\")\n",
    "        return\n",
    "\n",
    "    reader_data_reduced = reader_data[['t', 'id', 'reader']].drop_duplicates()\n",
    "    reader_data_reduced['t'] = (reader_data_reduced['t'] // pooling_interval) * pooling_interval\n",
    "\n",
    "    # === Load TIJ data\n",
    "    try:\n",
    "        tij_data = pd.read_csv(tij_path, delimiter=\"\\t\", header=None)\n",
    "        tij_data.columns = ['t', 'i', 'j']\n",
    "        tij_data['t'] = (tij_data['t'] // pooling_interval) * pooling_interval\n",
    "    except Exception as e:\n",
    "        print(f\"❌ Failed to load TIJ file: {e}\")\n",
    "        return\n",
    "\n",
    "    # === Merge readers for i and j\n",
    "    merge_i = pd.merge(\n",
    "        tij_data, reader_data_reduced,\n",
    "        left_on=['t', 'i'], right_on=['t', 'id'], how='left'\n",
    "    ).rename(columns={'reader': 'reader_i'}).drop(columns='id')\n",
    "\n",
    "    merge_ij = pd.merge(\n",
    "        merge_i, reader_data_reduced,\n",
    "        left_on=['t', 'j'], right_on=['t', 'id'], how='left'\n",
    "    ).rename(columns={'reader': 'reader_j'}).drop(columns='id')\n",
    "\n",
    "    # === Combine long format\n",
    "    long_readers = pd.concat([\n",
    "        merge_ij[['t', 'i', 'j', 'reader_i']].rename(columns={'reader_i': 'reader'}),\n",
    "        merge_ij[['t', 'i', 'j', 'reader_j']].rename(columns={'reader_j': 'reader'})\n",
    "    ])\n",
    "\n",
    "    # === Group with tqdm progress\n",
    "    print(\"⏳ Grouping readers by contact...\")\n",
    "    tqdm.pandas(desc=\"⏳ Processing contacts\")\n",
    "    contacts_with_readers = (\n",
    "        long_readers.dropna(subset=['reader'])\n",
    "        .groupby(['t', 'i', 'j'])['reader']\n",
    "        .progress_apply(lambda x: sorted(set(x)))\n",
    "        .reset_index(name='readers')\n",
    "    )\n",
    "\n",
    "    # === Check for missing contacts\n",
    "    merged_check = tij_data.merge(contacts_with_readers, on=['t', 'i', 'j'], how='left', indicator=True)\n",
    "    missing_rows = merged_check[merged_check['_merge'] == 'left_only']\n",
    "\n",
    "    if not missing_rows.empty:\n",
    "        print(f\"⚠️ {len(missing_rows)} contact(s) from the original file are missing in the output!\")\n",
    "        print(missing_rows.head())\n",
    "    else:\n",
    "        print(\"✅ All original (t, i, j) contacts are preserved in the output.\")\n",
    "\n",
    "    # === Save output\n",
    "    try:\n",
    "        contacts_with_readers.to_csv(output_path, index=False)\n",
    "        print(f\"✅ File successfully saved to: {output_path}\")\n",
    "    except Exception as e:\n",
    "        print(f\"❌ Failed to save file: {e}\")\n",
    "\n",
    "    end_time = time.time()\n",
    "    print(f\"⏱️  Done in {end_time - start_time:.2f} seconds\\n\")\n"
   ]
  },
  {
   "cell_type": "code",
   "execution_count": 4,
   "id": "e2871e6c-e390-4095-acc5-75659e698daa",
   "metadata": {
    "execution": {
     "iopub.execute_input": "2025-05-21T12:31:39.147646Z",
     "iopub.status.busy": "2025-05-21T12:31:39.147646Z",
     "iopub.status.idle": "2025-05-21T12:33:10.684037Z",
     "shell.execute_reply": "2025-05-21T12:33:10.684037Z",
     "shell.execute_reply.started": "2025-05-21T12:31:39.147646Z"
    }
   },
   "outputs": [
    {
     "name": "stdout",
     "output_type": "stream",
     "text": [
      "\n",
      "▶️ Processing: C:\\Users\\BE\\Documents\\Corentin\\data\\tij\\tij_ECSS18.dat + C:\\Users\\BE\\Documents\\Corentin\\data\\tij_readers\\ECSS18_w_readers_20s.csv\n",
      "⏳ Grouping readers by contact...\n"
     ]
    },
    {
     "name": "stderr",
     "output_type": "stream",
     "text": [
      "⏳ Processing contacts: 100%|██████████| 96362/96362 [00:03<00:00, 28858.40it/s]\n"
     ]
    },
    {
     "name": "stdout",
     "output_type": "stream",
     "text": [
      "✅ All original (t, i, j) contacts are preserved in the output.\n",
      "✅ File successfully saved to: C:\\Users\\BE\\Documents\\Corentin\\data\\TIJ_with_reader_list\\tij_with_readers_ECSS18.dat\n",
      "⏱️  Done in 9.17 seconds\n",
      "\n",
      "\n",
      "▶️ Processing: C:\\Users\\BE\\Documents\\Corentin\\data\\tij\\tij_ECIR19.dat + C:\\Users\\BE\\Documents\\Corentin\\data\\tij_readers\\ECIR19_w_readers_20s.csv\n",
      "⏳ Grouping readers by contact...\n"
     ]
    },
    {
     "name": "stderr",
     "output_type": "stream",
     "text": [
      "⏳ Processing contacts: 100%|██████████| 132949/132949 [00:04<00:00, 30425.79it/s]\n"
     ]
    },
    {
     "name": "stdout",
     "output_type": "stream",
     "text": [
      "✅ All original (t, i, j) contacts are preserved in the output.\n",
      "✅ File successfully saved to: C:\\Users\\BE\\Documents\\Corentin\\data\\TIJ_with_reader_list\\tij_with_readers_ECIR19.dat\n",
      "⏱️  Done in 19.49 seconds\n",
      "\n",
      "\n",
      "▶️ Processing: C:\\Users\\BE\\Documents\\Corentin\\data\\tij\\tij_WS16.dat + C:\\Users\\BE\\Documents\\Corentin\\data\\tij_readers\\WS16_w_readers_20s.csv\n",
      "⏳ Grouping readers by contact...\n"
     ]
    },
    {
     "name": "stderr",
     "output_type": "stream",
     "text": [
      "⏳ Processing contacts: 100%|██████████| 153371/153371 [00:04<00:00, 30810.06it/s]\n"
     ]
    },
    {
     "name": "stdout",
     "output_type": "stream",
     "text": [
      "✅ All original (t, i, j) contacts are preserved in the output.\n",
      "✅ File successfully saved to: C:\\Users\\BE\\Documents\\Corentin\\data\\TIJ_with_reader_list\\tij_with_readers_WS16.dat\n",
      "⏱️  Done in 10.30 seconds\n",
      "\n",
      "\n",
      "▶️ Processing: C:\\Users\\BE\\Documents\\Corentin\\data\\tij\\tij_ICCSS17.dat + C:\\Users\\BE\\Documents\\Corentin\\data\\tij_readers\\ICCSS17_w_readers.csv\n",
      "⏳ Grouping readers by contact...\n"
     ]
    },
    {
     "name": "stderr",
     "output_type": "stream",
     "text": [
      "⏳ Processing contacts: 100%|██████████| 199309/199309 [00:09<00:00, 21539.68it/s]\n"
     ]
    },
    {
     "name": "stdout",
     "output_type": "stream",
     "text": [
      "✅ All original (t, i, j) contacts are preserved in the output.\n",
      "✅ File successfully saved to: C:\\Users\\BE\\Documents\\Corentin\\data\\TIJ_with_reader_list\\tij_with_readers_ICCSS17.dat\n",
      "⏱️  Done in 51.77 seconds\n",
      "\n"
     ]
    }
   ],
   "source": [
    "for tij_path, reader_path in zip(file_path_tij, file_path_reader):\n",
    "    compute_tij_with_readers_list(tij_path, reader_path, results_dir)"
   ]
  },
  {
   "cell_type": "code",
   "execution_count": null,
   "id": "d01fbbe6-9095-4c69-9bda-a9c8f2df61e3",
   "metadata": {},
   "outputs": [],
   "source": []
  },
  {
   "cell_type": "code",
   "execution_count": null,
   "id": "41abd2c4-bcf0-4e3d-8fbf-02860e4a0d00",
   "metadata": {},
   "outputs": [],
   "source": []
  }
 ],
 "metadata": {
  "kernelspec": {
   "display_name": "Python [conda env:base] *",
   "language": "python",
   "name": "conda-base-py"
  },
  "language_info": {
   "codemirror_mode": {
    "name": "ipython",
    "version": 3
   },
   "file_extension": ".py",
   "mimetype": "text/x-python",
   "name": "python",
   "nbconvert_exporter": "python",
   "pygments_lexer": "ipython3",
   "version": "3.12.3"
  }
 },
 "nbformat": 4,
 "nbformat_minor": 5
}
