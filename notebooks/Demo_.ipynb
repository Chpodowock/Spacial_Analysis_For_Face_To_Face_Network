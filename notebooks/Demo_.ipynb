{
 "cells": [
  {
   "cell_type": "code",
   "execution_count": 1,
   "metadata": {
    "execution": {
     "iopub.execute_input": "2025-06-14T12:09:59.830361Z",
     "iopub.status.busy": "2025-06-14T12:09:59.830361Z",
     "iopub.status.idle": "2025-06-14T12:18:32.879249Z",
     "shell.execute_reply": "2025-06-14T12:18:32.879249Z",
     "shell.execute_reply.started": "2025-06-14T12:09:59.830361Z"
    }
   },
   "outputs": [],
   "source": [
    "import pandas as pd\n",
    "import numpy as np\n",
    "from numba import njit\n",
    "import csv\n",
    "import pickle\n",
    "import matplotlib.pyplot as plt\n",
    "import MLestimation as mle #takes 1 minute to load "
   ]
  },
  {
   "cell_type": "markdown",
   "metadata": {},
   "source": [
    "## Location for downloaded data files other input files:"
   ]
  },
  {
   "cell_type": "code",
   "execution_count": 3,
   "metadata": {
    "execution": {
     "iopub.execute_input": "2025-06-14T12:18:32.904160Z",
     "iopub.status.busy": "2025-06-14T12:18:32.904160Z",
     "iopub.status.idle": "2025-06-14T12:18:32.912632Z",
     "shell.execute_reply": "2025-06-14T12:18:32.912632Z",
     "shell.execute_reply.started": "2025-06-14T12:18:32.904160Z"
    }
   },
   "outputs": [],
   "source": [
    "\n",
    "PARCOMBS_LOC = r\"C:\\Users\\BE\\Documents\\Corentin\\densificationscalingMLE-master\\Densification_proj\\parameter_combinations\\paramcombs.csv\"\n",
    "WORKPLACE_PARCOMBS_LOC = r\"C:\\Users\\BE\\Documents\\Corentin\\densificationscalingMLE-master\\Densification_proj\\parameter_combinations\\paramcombs_workplace.csv\"\n",
    "\n",
    "LKFNS_LOC = r\"C:\\Users\\BE\\Documents\\Corentin\\densificationscalingMLE-master\\Densification_proj\\likelihoodfns\\Likefn\"\n",
    "WORKPLACE_LKFNS_LOC = r\"C:\\Users\\BE\\Documents\\Corentin\\densificationscalingMLE-master\\Densification_proj\\likelihoodfns_workplace\\Likefn\"\n"
   ]
  },
  {
   "cell_type": "markdown",
   "metadata": {},
   "source": [
    "## User imports the datasets"
   ]
  },
  {
   "cell_type": "code",
   "execution_count": 5,
   "metadata": {
    "execution": {
     "iopub.execute_input": "2025-06-14T12:18:32.935053Z",
     "iopub.status.busy": "2025-06-14T12:18:32.935053Z",
     "iopub.status.idle": "2025-06-14T12:19:28.059767Z",
     "shell.execute_reply": "2025-06-14T12:19:28.059767Z",
     "shell.execute_reply.started": "2025-06-14T12:18:32.935053Z"
    }
   },
   "outputs": [
    {
     "name": "stdout",
     "output_type": "stream",
     "text": [
      "🔍 Found 3 CSV file(s) in 'C:\\Users\\BE\\Documents\\Corentin\\Spacial_Analysis_For_Face_To_Face_Network-main\\notebooks\\densification_data'.\n",
      "\n",
      "📄 Processing 'nm_foyer_1.csv'...\n",
      "  ✅ Success (119 snapshots) in 25.99 s\n",
      "\n",
      "📄 Processing 'nm_mainroom_3.csv'...\n",
      "  ✅ Success (108 snapshots) in 20.47 s\n",
      "\n",
      "📄 Processing 'nm_posterroom_2.csv'...\n",
      "  ✅ Success (47 snapshots) in 8.62 s\n"
     ]
    }
   ],
   "source": [
    "import os\n",
    "import time\n",
    "import pandas as pd\n",
    "import numpy as np\n",
    "import plotly.graph_objects as go\n",
    "from plotly.subplots import make_subplots\n",
    "\n",
    "# === Configuration ===\n",
    "DATA_DIR = r\"C:\\Users\\BE\\Documents\\Corentin\\Spacial_Analysis_For_Face_To_Face_Network-main\\notebooks\\densification_data\"\n",
    "files = [f for f in os.listdir(DATA_DIR) if f.endswith(\".csv\")]\n",
    "\n",
    "print(f\"🔍 Found {len(files)} CSV file(s) in '{DATA_DIR}'.\")\n",
    "\n",
    "# === Collect results per file ===\n",
    "estimates_per_file = []\n",
    "\n",
    "for file in sorted(files):\n",
    "    start_time = time.time()\n",
    "    filepath = os.path.join(DATA_DIR, file)\n",
    "    label = file.replace(\".csv\", \"\")\n",
    "    print(f\"\\n📄 Processing '{file}'...\")\n",
    "\n",
    "    try:\n",
    "        data = pd.read_csv(filepath, header=None, names=[\"N\", \"M\"])\n",
    "\n",
    "        # Basic checks\n",
    "        if data.shape[1] != 2:\n",
    "            print(f\"  ❌ Skipped: expected 2 columns, got {data.shape[1]}\")\n",
    "            continue\n",
    "        if data.isnull().any().any():\n",
    "            print(f\"  ⚠️  Warning: NaN values detected\")\n",
    "        if (data[\"M\"] < 0).any():\n",
    "            print(f\"  ⚠️  Warning: Negative edge counts\")\n",
    "\n",
    "        # Estimate\n",
    "        est = mle.estimates(data.values)\n",
    "        if est.empty or len(est) != len(data):\n",
    "            print(f\"  ❌ Skipped: estimation failed or output shape mismatch\")\n",
    "            continue\n",
    "\n",
    "        estimates_per_file.append({\n",
    "            \"label\": label,\n",
    "            \"data\": data,\n",
    "            \"estimates\": est\n",
    "        })\n",
    "\n",
    "        print(f\"  ✅ Success ({len(data)} snapshots) in {time.time() - start_time:.2f} s\")\n",
    "\n",
    "    except Exception as e:\n",
    "        print(f\"  ❌ Error while processing: {e}\")\n"
   ]
  },
  {
   "cell_type": "code",
   "execution_count": 11,
   "metadata": {
    "execution": {
     "iopub.execute_input": "2025-06-14T12:19:30.440080Z",
     "iopub.status.busy": "2025-06-14T12:19:30.440080Z",
     "iopub.status.idle": "2025-06-14T12:19:30.518264Z",
     "shell.execute_reply": "2025-06-14T12:19:30.518264Z",
     "shell.execute_reply.started": "2025-06-14T12:19:30.440080Z"
    }
   },
   "outputs": [
    {
     "name": "stdout",
     "output_type": "stream",
     "text": [
      "📊 Plot is ready. Showing interactive viewer...\n"
     ]
    },
    {
     "data": {
      "application/vnd.plotly.v1+json": {
       "config": {
        "plotlyServerURL": "https://plot.ly"
       },
       "data": [
        {
         "mode": "lines",
         "name": "nm_foyer_1 κ",
         "type": "scatter",
         "xaxis": "x",
         "y": [
          1.225,
          2.8000000000000003,
          0.5750000000000001,
          0.9,
          0.65,
          0.45,
          0.2,
          0.225,
          0.125,
          0.15,
          0.125,
          0.2,
          0.1,
          0.15,
          0.125,
          0.25,
          0.225,
          0.9,
          0.8500000000000001,
          0.8500000000000001,
          0.375,
          0.675,
          0.5,
          0.05,
          0.1,
          0.75,
          1.05,
          0.675,
          4,
          3.95,
          1.3250000000000002,
          1.75,
          1.4,
          0.55,
          0.35,
          0.35,
          0.5,
          0.125,
          0.025,
          0.425,
          0.525,
          0.55,
          3.9,
          3.9,
          0.875,
          3.95,
          2.825,
          3.925,
          1.25,
          1.25,
          1.425,
          0.75,
          0.375,
          0.625,
          1.25,
          0.6000000000000001,
          0.375,
          0.375,
          0.35,
          1.025,
          1.3,
          4,
          3.875,
          4,
          2.5500000000000003,
          1.125,
          0.65,
          0.2,
          0.275,
          0.225,
          0.425,
          0.125,
          0.4,
          1.075,
          0.15,
          1.175,
          0.225,
          0.975,
          0.8,
          0.55,
          0.45,
          0.175,
          0.325,
          0.55,
          0.125,
          0.125,
          1.4,
          0.7250000000000001,
          0.6000000000000001,
          0.675,
          0.525,
          0.45,
          0.4,
          0.5750000000000001,
          0.325,
          0.5,
          0.375,
          0.425,
          0.35,
          1.3,
          3.2750000000000004,
          1.275,
          0.8,
          0.5,
          0.7000000000000001,
          0.35,
          0.35,
          0.175,
          0.5750000000000001,
          0.325,
          0.175,
          0.225,
          1.15,
          1.15,
          0.125,
          0.375,
          0.325,
          0.675,
          0.025
         ],
         "yaxis": "y"
        },
        {
         "mode": "lines",
         "name": "nm_foyer_1 Np",
         "type": "scatter",
         "xaxis": "x2",
         "y": [
          11,
          13,
          30,
          44,
          65,
          76,
          40,
          21,
          32,
          24,
          32,
          39,
          49,
          23,
          33,
          28,
          34,
          115,
          117,
          109,
          28,
          19,
          16,
          41,
          38,
          122,
          27,
          9,
          3,
          5,
          7,
          9,
          24,
          91,
          80,
          23,
          16,
          23,
          27,
          106,
          68,
          13,
          4,
          3,
          7,
          5,
          5,
          5,
          10,
          10,
          10,
          30,
          86,
          17,
          18,
          25,
          22,
          79,
          81,
          26,
          16,
          7,
          8,
          9,
          14,
          27,
          37,
          44,
          21,
          29,
          25,
          36,
          24,
          11,
          24,
          9,
          24,
          91,
          93,
          95,
          83,
          23,
          16,
          11,
          25,
          32,
          12,
          102,
          102,
          101,
          100,
          99,
          95,
          92,
          94,
          87,
          34,
          16,
          22,
          14,
          7,
          13,
          87,
          83,
          85,
          46,
          16,
          23,
          18,
          16,
          25,
          19,
          8,
          8,
          15,
          30,
          58,
          13,
          27
         ],
         "yaxis": "y2"
        },
        {
         "mode": "lines",
         "name": "nm_foyer_1 M",
         "type": "scatter",
         "xaxis": "x3",
         "y": [
          14,
          33,
          56,
          163,
          295,
          304,
          35,
          13,
          16,
          11,
          16,
          35,
          31,
          9,
          15,
          22,
          26,
          1196,
          1181,
          1139,
          35,
          29,
          13,
          10,
          19,
          1182,
          72,
          6,
          2,
          7,
          6,
          11,
          71,
          532,
          257,
          19,
          13,
          8,
          2,
          538,
          287,
          10,
          4,
          3,
          4,
          7,
          5,
          6,
          12,
          12,
          13,
          74,
          335,
          18,
          38,
          40,
          20,
          297,
          261,
          70,
          34,
          19,
          24,
          27,
          41,
          84,
          94,
          45,
          14,
          21,
          30,
          20,
          27,
          13,
          11,
          9,
          16,
          793,
          721,
          571,
          377,
          12,
          9,
          7,
          10,
          16,
          19,
          741,
          646,
          684,
          591,
          530,
          399,
          532,
          325,
          453,
          51,
          14,
          18,
          24,
          11,
          19,
          613,
          406,
          583,
          88,
          11,
          12,
          17,
          10,
          13,
          9,
          7,
          7,
          3,
          38,
          133,
          11,
          2
         ],
         "yaxis": "y3"
        },
        {
         "mode": "lines",
         "name": "nm_mainroom_3 κ",
         "type": "scatter",
         "xaxis": "x",
         "y": [
          0.7000000000000001,
          1.5,
          3.9,
          0.275,
          1.175,
          1,
          0.625,
          0.075,
          0.05,
          0.05,
          0.025,
          0.05,
          0.075,
          0.075,
          0.05,
          0.025,
          0.025,
          0.05,
          0.8500000000000001,
          1,
          0.9,
          0.1,
          0.075,
          0.075,
          0.05,
          0.05,
          0.7000000000000001,
          3.95,
          0.05,
          0.8,
          0.425,
          0.225,
          0.075,
          0.05,
          0.05,
          0.05,
          0.375,
          0.2,
          3.95,
          3.95,
          0.05,
          0.5750000000000001,
          0.3,
          0.025,
          0.025,
          0.05,
          0.05,
          0.275,
          0.4,
          0.1,
          3.9,
          3.95,
          3.2750000000000004,
          3.925,
          3.95,
          1.3250000000000002,
          1.025,
          0.4,
          0.175,
          0.05,
          0.05,
          0.175,
          0.1,
          0.125,
          0.075,
          0.1,
          0.075,
          0.05,
          1,
          0.8500000000000001,
          1.3,
          0.45,
          0.05,
          0.05,
          0.05,
          0.025,
          0.05,
          0.05,
          0.7000000000000001,
          0.7000000000000001,
          0.875,
          3.95,
          0.475,
          0.15,
          0.275,
          0.6000000000000001,
          0.1,
          0.05,
          0.05,
          0.05,
          0.05,
          0.05,
          0.875,
          0.45,
          0.8,
          0.2,
          0.025,
          0.025,
          0.025,
          0.075,
          0.05,
          0.025,
          0.05,
          0.05,
          0.025,
          0.225,
          0.475,
          2.825
         ],
         "yaxis": "y"
        },
        {
         "mode": "lines",
         "name": "nm_mainroom_3 Np",
         "type": "scatter",
         "xaxis": "x2",
         "y": [
          8,
          8,
          3,
          13,
          9,
          17,
          60,
          75,
          102,
          93,
          118,
          109,
          101,
          111,
          98,
          131,
          135,
          107,
          112,
          35,
          103,
          113,
          92,
          90,
          98,
          106,
          116,
          2,
          27,
          13,
          54,
          105,
          88,
          108,
          101,
          108,
          113,
          27,
          2,
          2,
          27,
          16,
          82,
          111,
          105,
          91,
          98,
          95,
          55,
          23,
          9,
          2,
          7,
          7,
          9,
          7,
          15,
          26,
          42,
          49,
          49,
          39,
          51,
          72,
          65,
          70,
          71,
          82,
          88,
          20,
          21,
          79,
          88,
          104,
          94,
          122,
          114,
          102,
          95,
          14,
          7,
          2,
          13,
          23,
          23,
          68,
          80,
          83,
          98,
          92,
          91,
          91,
          82,
          21,
          52,
          62,
          93,
          82,
          97,
          71,
          87,
          99,
          72,
          85,
          104,
          75,
          48,
          5
         ],
         "yaxis": "y2"
        },
        {
         "mode": "lines",
         "name": "nm_mainroom_3 M",
         "type": "scatter",
         "xaxis": "x3",
         "y": [
          5,
          8,
          3,
          5,
          9,
          30,
          250,
          49,
          66,
          47,
          45,
          69,
          87,
          99,
          57,
          45,
          60,
          77,
          1112,
          117,
          998,
          143,
          85,
          76,
          61,
          66,
          1031,
          1,
          4,
          14,
          148,
          296,
          62,
          73,
          63,
          66,
          563,
          18,
          1,
          1,
          4,
          16,
          244,
          42,
          36,
          52,
          53,
          310,
          140,
          6,
          21,
          1,
          11,
          15,
          28,
          6,
          26,
          35,
          36,
          15,
          15,
          28,
          30,
          75,
          43,
          55,
          52,
          38,
          767,
          35,
          52,
          325,
          47,
          56,
          51,
          53,
          82,
          59,
          679,
          13,
          4,
          1,
          8,
          9,
          17,
          291,
          73,
          40,
          53,
          46,
          49,
          49,
          572,
          23,
          237,
          89,
          28,
          23,
          26,
          47,
          41,
          33,
          31,
          38,
          31,
          151,
          122,
          5
         ],
         "yaxis": "y3"
        },
        {
         "mode": "lines",
         "name": "nm_posterroom_2 κ",
         "type": "scatter",
         "xaxis": "x",
         "y": [
          3.95,
          0.125,
          3.925,
          3.125,
          1.25,
          3.2750000000000004,
          3.9,
          3.95,
          1.55,
          1.275,
          3.9,
          3.9,
          3.95,
          0.8250000000000001,
          0.35,
          0.3,
          0.2,
          0.35,
          0.35,
          0.525,
          0.625,
          0.475,
          0.65,
          0.15,
          3.95,
          3.95,
          3.95,
          3.9,
          0.4,
          0.7000000000000001,
          0.75,
          0.55,
          0.8250000000000001,
          0.875,
          0.625,
          0.8500000000000001,
          0.5750000000000001,
          0.7250000000000001,
          0.6000000000000001,
          0.625,
          0.45,
          0.6000000000000001,
          0.475,
          0.7000000000000001,
          3.9,
          2.475,
          3.95
         ],
         "yaxis": "y"
        },
        {
         "mode": "lines",
         "name": "nm_posterroom_2 Np",
         "type": "scatter",
         "xaxis": "x2",
         "y": [
          2,
          15,
          5,
          7,
          10,
          6,
          3,
          2,
          12,
          15,
          4,
          4,
          2,
          99,
          122,
          117,
          125,
          116,
          105,
          104,
          98,
          92,
          91,
          23,
          2,
          2,
          2,
          3,
          40,
          112,
          117,
          116,
          112,
          106,
          105,
          108,
          104,
          96,
          100,
          93,
          96,
          100,
          73,
          8,
          3,
          6,
          2
         ],
         "yaxis": "y2"
        },
        {
         "mode": "lines",
         "name": "nm_posterroom_2 M",
         "type": "scatter",
         "xaxis": "x3",
         "y": [
          1,
          3,
          6,
          10,
          12,
          8,
          3,
          1,
          20,
          27,
          4,
          4,
          1,
          903,
          552,
          469,
          364,
          526,
          456,
          665,
          676,
          443,
          576,
          9,
          1,
          1,
          1,
          3,
          74,
          994,
          1153,
          885,
          1024,
          1011,
          779,
          994,
          720,
          732,
          683,
          600,
          513,
          653,
          270,
          5,
          3,
          7,
          1
         ],
         "yaxis": "y3"
        }
       ],
       "layout": {
        "annotations": [
         {
          "font": {
           "size": 16
          },
          "showarrow": false,
          "text": "Kappa (κ_t)",
          "x": 0.5,
          "xanchor": "center",
          "xref": "paper",
          "y": 1,
          "yanchor": "bottom",
          "yref": "paper"
         },
         {
          "font": {
           "size": 16
          },
          "showarrow": false,
          "text": "Estimated Np_t",
          "x": 0.5,
          "xanchor": "center",
          "xref": "paper",
          "y": 0.6433333333333333,
          "yanchor": "bottom",
          "yref": "paper"
         },
         {
          "font": {
           "size": 16
          },
          "showarrow": false,
          "text": "M_t (edges)",
          "x": 0.5,
          "xanchor": "center",
          "xref": "paper",
          "y": 0.2866666666666667,
          "yanchor": "bottom",
          "yref": "paper"
         }
        ],
        "height": 900,
        "showlegend": true,
        "template": {
         "data": {
          "bar": [
           {
            "error_x": {
             "color": "rgb(36,36,36)"
            },
            "error_y": {
             "color": "rgb(36,36,36)"
            },
            "marker": {
             "line": {
              "color": "white",
              "width": 0.5
             },
             "pattern": {
              "fillmode": "overlay",
              "size": 10,
              "solidity": 0.2
             }
            },
            "type": "bar"
           }
          ],
          "barpolar": [
           {
            "marker": {
             "line": {
              "color": "white",
              "width": 0.5
             },
             "pattern": {
              "fillmode": "overlay",
              "size": 10,
              "solidity": 0.2
             }
            },
            "type": "barpolar"
           }
          ],
          "carpet": [
           {
            "aaxis": {
             "endlinecolor": "rgb(36,36,36)",
             "gridcolor": "white",
             "linecolor": "white",
             "minorgridcolor": "white",
             "startlinecolor": "rgb(36,36,36)"
            },
            "baxis": {
             "endlinecolor": "rgb(36,36,36)",
             "gridcolor": "white",
             "linecolor": "white",
             "minorgridcolor": "white",
             "startlinecolor": "rgb(36,36,36)"
            },
            "type": "carpet"
           }
          ],
          "choropleth": [
           {
            "colorbar": {
             "outlinewidth": 1,
             "tickcolor": "rgb(36,36,36)",
             "ticks": "outside"
            },
            "type": "choropleth"
           }
          ],
          "contour": [
           {
            "colorbar": {
             "outlinewidth": 1,
             "tickcolor": "rgb(36,36,36)",
             "ticks": "outside"
            },
            "colorscale": [
             [
              0,
              "#440154"
             ],
             [
              0.1111111111111111,
              "#482878"
             ],
             [
              0.2222222222222222,
              "#3e4989"
             ],
             [
              0.3333333333333333,
              "#31688e"
             ],
             [
              0.4444444444444444,
              "#26828e"
             ],
             [
              0.5555555555555556,
              "#1f9e89"
             ],
             [
              0.6666666666666666,
              "#35b779"
             ],
             [
              0.7777777777777778,
              "#6ece58"
             ],
             [
              0.8888888888888888,
              "#b5de2b"
             ],
             [
              1,
              "#fde725"
             ]
            ],
            "type": "contour"
           }
          ],
          "contourcarpet": [
           {
            "colorbar": {
             "outlinewidth": 1,
             "tickcolor": "rgb(36,36,36)",
             "ticks": "outside"
            },
            "type": "contourcarpet"
           }
          ],
          "heatmap": [
           {
            "colorbar": {
             "outlinewidth": 1,
             "tickcolor": "rgb(36,36,36)",
             "ticks": "outside"
            },
            "colorscale": [
             [
              0,
              "#440154"
             ],
             [
              0.1111111111111111,
              "#482878"
             ],
             [
              0.2222222222222222,
              "#3e4989"
             ],
             [
              0.3333333333333333,
              "#31688e"
             ],
             [
              0.4444444444444444,
              "#26828e"
             ],
             [
              0.5555555555555556,
              "#1f9e89"
             ],
             [
              0.6666666666666666,
              "#35b779"
             ],
             [
              0.7777777777777778,
              "#6ece58"
             ],
             [
              0.8888888888888888,
              "#b5de2b"
             ],
             [
              1,
              "#fde725"
             ]
            ],
            "type": "heatmap"
           }
          ],
          "heatmapgl": [
           {
            "colorbar": {
             "outlinewidth": 1,
             "tickcolor": "rgb(36,36,36)",
             "ticks": "outside"
            },
            "colorscale": [
             [
              0,
              "#440154"
             ],
             [
              0.1111111111111111,
              "#482878"
             ],
             [
              0.2222222222222222,
              "#3e4989"
             ],
             [
              0.3333333333333333,
              "#31688e"
             ],
             [
              0.4444444444444444,
              "#26828e"
             ],
             [
              0.5555555555555556,
              "#1f9e89"
             ],
             [
              0.6666666666666666,
              "#35b779"
             ],
             [
              0.7777777777777778,
              "#6ece58"
             ],
             [
              0.8888888888888888,
              "#b5de2b"
             ],
             [
              1,
              "#fde725"
             ]
            ],
            "type": "heatmapgl"
           }
          ],
          "histogram": [
           {
            "marker": {
             "line": {
              "color": "white",
              "width": 0.6
             }
            },
            "type": "histogram"
           }
          ],
          "histogram2d": [
           {
            "colorbar": {
             "outlinewidth": 1,
             "tickcolor": "rgb(36,36,36)",
             "ticks": "outside"
            },
            "colorscale": [
             [
              0,
              "#440154"
             ],
             [
              0.1111111111111111,
              "#482878"
             ],
             [
              0.2222222222222222,
              "#3e4989"
             ],
             [
              0.3333333333333333,
              "#31688e"
             ],
             [
              0.4444444444444444,
              "#26828e"
             ],
             [
              0.5555555555555556,
              "#1f9e89"
             ],
             [
              0.6666666666666666,
              "#35b779"
             ],
             [
              0.7777777777777778,
              "#6ece58"
             ],
             [
              0.8888888888888888,
              "#b5de2b"
             ],
             [
              1,
              "#fde725"
             ]
            ],
            "type": "histogram2d"
           }
          ],
          "histogram2dcontour": [
           {
            "colorbar": {
             "outlinewidth": 1,
             "tickcolor": "rgb(36,36,36)",
             "ticks": "outside"
            },
            "colorscale": [
             [
              0,
              "#440154"
             ],
             [
              0.1111111111111111,
              "#482878"
             ],
             [
              0.2222222222222222,
              "#3e4989"
             ],
             [
              0.3333333333333333,
              "#31688e"
             ],
             [
              0.4444444444444444,
              "#26828e"
             ],
             [
              0.5555555555555556,
              "#1f9e89"
             ],
             [
              0.6666666666666666,
              "#35b779"
             ],
             [
              0.7777777777777778,
              "#6ece58"
             ],
             [
              0.8888888888888888,
              "#b5de2b"
             ],
             [
              1,
              "#fde725"
             ]
            ],
            "type": "histogram2dcontour"
           }
          ],
          "mesh3d": [
           {
            "colorbar": {
             "outlinewidth": 1,
             "tickcolor": "rgb(36,36,36)",
             "ticks": "outside"
            },
            "type": "mesh3d"
           }
          ],
          "parcoords": [
           {
            "line": {
             "colorbar": {
              "outlinewidth": 1,
              "tickcolor": "rgb(36,36,36)",
              "ticks": "outside"
             }
            },
            "type": "parcoords"
           }
          ],
          "pie": [
           {
            "automargin": true,
            "type": "pie"
           }
          ],
          "scatter": [
           {
            "fillpattern": {
             "fillmode": "overlay",
             "size": 10,
             "solidity": 0.2
            },
            "type": "scatter"
           }
          ],
          "scatter3d": [
           {
            "line": {
             "colorbar": {
              "outlinewidth": 1,
              "tickcolor": "rgb(36,36,36)",
              "ticks": "outside"
             }
            },
            "marker": {
             "colorbar": {
              "outlinewidth": 1,
              "tickcolor": "rgb(36,36,36)",
              "ticks": "outside"
             }
            },
            "type": "scatter3d"
           }
          ],
          "scattercarpet": [
           {
            "marker": {
             "colorbar": {
              "outlinewidth": 1,
              "tickcolor": "rgb(36,36,36)",
              "ticks": "outside"
             }
            },
            "type": "scattercarpet"
           }
          ],
          "scattergeo": [
           {
            "marker": {
             "colorbar": {
              "outlinewidth": 1,
              "tickcolor": "rgb(36,36,36)",
              "ticks": "outside"
             }
            },
            "type": "scattergeo"
           }
          ],
          "scattergl": [
           {
            "marker": {
             "colorbar": {
              "outlinewidth": 1,
              "tickcolor": "rgb(36,36,36)",
              "ticks": "outside"
             }
            },
            "type": "scattergl"
           }
          ],
          "scattermapbox": [
           {
            "marker": {
             "colorbar": {
              "outlinewidth": 1,
              "tickcolor": "rgb(36,36,36)",
              "ticks": "outside"
             }
            },
            "type": "scattermapbox"
           }
          ],
          "scatterpolar": [
           {
            "marker": {
             "colorbar": {
              "outlinewidth": 1,
              "tickcolor": "rgb(36,36,36)",
              "ticks": "outside"
             }
            },
            "type": "scatterpolar"
           }
          ],
          "scatterpolargl": [
           {
            "marker": {
             "colorbar": {
              "outlinewidth": 1,
              "tickcolor": "rgb(36,36,36)",
              "ticks": "outside"
             }
            },
            "type": "scatterpolargl"
           }
          ],
          "scatterternary": [
           {
            "marker": {
             "colorbar": {
              "outlinewidth": 1,
              "tickcolor": "rgb(36,36,36)",
              "ticks": "outside"
             }
            },
            "type": "scatterternary"
           }
          ],
          "surface": [
           {
            "colorbar": {
             "outlinewidth": 1,
             "tickcolor": "rgb(36,36,36)",
             "ticks": "outside"
            },
            "colorscale": [
             [
              0,
              "#440154"
             ],
             [
              0.1111111111111111,
              "#482878"
             ],
             [
              0.2222222222222222,
              "#3e4989"
             ],
             [
              0.3333333333333333,
              "#31688e"
             ],
             [
              0.4444444444444444,
              "#26828e"
             ],
             [
              0.5555555555555556,
              "#1f9e89"
             ],
             [
              0.6666666666666666,
              "#35b779"
             ],
             [
              0.7777777777777778,
              "#6ece58"
             ],
             [
              0.8888888888888888,
              "#b5de2b"
             ],
             [
              1,
              "#fde725"
             ]
            ],
            "type": "surface"
           }
          ],
          "table": [
           {
            "cells": {
             "fill": {
              "color": "rgb(237,237,237)"
             },
             "line": {
              "color": "white"
             }
            },
            "header": {
             "fill": {
              "color": "rgb(217,217,217)"
             },
             "line": {
              "color": "white"
             }
            },
            "type": "table"
           }
          ]
         },
         "layout": {
          "annotationdefaults": {
           "arrowhead": 0,
           "arrowwidth": 1
          },
          "autotypenumbers": "strict",
          "coloraxis": {
           "colorbar": {
            "outlinewidth": 1,
            "tickcolor": "rgb(36,36,36)",
            "ticks": "outside"
           }
          },
          "colorscale": {
           "diverging": [
            [
             0,
             "rgb(103,0,31)"
            ],
            [
             0.1,
             "rgb(178,24,43)"
            ],
            [
             0.2,
             "rgb(214,96,77)"
            ],
            [
             0.3,
             "rgb(244,165,130)"
            ],
            [
             0.4,
             "rgb(253,219,199)"
            ],
            [
             0.5,
             "rgb(247,247,247)"
            ],
            [
             0.6,
             "rgb(209,229,240)"
            ],
            [
             0.7,
             "rgb(146,197,222)"
            ],
            [
             0.8,
             "rgb(67,147,195)"
            ],
            [
             0.9,
             "rgb(33,102,172)"
            ],
            [
             1,
             "rgb(5,48,97)"
            ]
           ],
           "sequential": [
            [
             0,
             "#440154"
            ],
            [
             0.1111111111111111,
             "#482878"
            ],
            [
             0.2222222222222222,
             "#3e4989"
            ],
            [
             0.3333333333333333,
             "#31688e"
            ],
            [
             0.4444444444444444,
             "#26828e"
            ],
            [
             0.5555555555555556,
             "#1f9e89"
            ],
            [
             0.6666666666666666,
             "#35b779"
            ],
            [
             0.7777777777777778,
             "#6ece58"
            ],
            [
             0.8888888888888888,
             "#b5de2b"
            ],
            [
             1,
             "#fde725"
            ]
           ],
           "sequentialminus": [
            [
             0,
             "#440154"
            ],
            [
             0.1111111111111111,
             "#482878"
            ],
            [
             0.2222222222222222,
             "#3e4989"
            ],
            [
             0.3333333333333333,
             "#31688e"
            ],
            [
             0.4444444444444444,
             "#26828e"
            ],
            [
             0.5555555555555556,
             "#1f9e89"
            ],
            [
             0.6666666666666666,
             "#35b779"
            ],
            [
             0.7777777777777778,
             "#6ece58"
            ],
            [
             0.8888888888888888,
             "#b5de2b"
            ],
            [
             1,
             "#fde725"
            ]
           ]
          },
          "colorway": [
           "#1F77B4",
           "#FF7F0E",
           "#2CA02C",
           "#D62728",
           "#9467BD",
           "#8C564B",
           "#E377C2",
           "#7F7F7F",
           "#BCBD22",
           "#17BECF"
          ],
          "font": {
           "color": "rgb(36,36,36)"
          },
          "geo": {
           "bgcolor": "white",
           "lakecolor": "white",
           "landcolor": "white",
           "showlakes": true,
           "showland": true,
           "subunitcolor": "white"
          },
          "hoverlabel": {
           "align": "left"
          },
          "hovermode": "closest",
          "mapbox": {
           "style": "light"
          },
          "paper_bgcolor": "white",
          "plot_bgcolor": "white",
          "polar": {
           "angularaxis": {
            "gridcolor": "rgb(232,232,232)",
            "linecolor": "rgb(36,36,36)",
            "showgrid": false,
            "showline": true,
            "ticks": "outside"
           },
           "bgcolor": "white",
           "radialaxis": {
            "gridcolor": "rgb(232,232,232)",
            "linecolor": "rgb(36,36,36)",
            "showgrid": false,
            "showline": true,
            "ticks": "outside"
           }
          },
          "scene": {
           "xaxis": {
            "backgroundcolor": "white",
            "gridcolor": "rgb(232,232,232)",
            "gridwidth": 2,
            "linecolor": "rgb(36,36,36)",
            "showbackground": true,
            "showgrid": false,
            "showline": true,
            "ticks": "outside",
            "zeroline": false,
            "zerolinecolor": "rgb(36,36,36)"
           },
           "yaxis": {
            "backgroundcolor": "white",
            "gridcolor": "rgb(232,232,232)",
            "gridwidth": 2,
            "linecolor": "rgb(36,36,36)",
            "showbackground": true,
            "showgrid": false,
            "showline": true,
            "ticks": "outside",
            "zeroline": false,
            "zerolinecolor": "rgb(36,36,36)"
           },
           "zaxis": {
            "backgroundcolor": "white",
            "gridcolor": "rgb(232,232,232)",
            "gridwidth": 2,
            "linecolor": "rgb(36,36,36)",
            "showbackground": true,
            "showgrid": false,
            "showline": true,
            "ticks": "outside",
            "zeroline": false,
            "zerolinecolor": "rgb(36,36,36)"
           }
          },
          "shapedefaults": {
           "fillcolor": "black",
           "line": {
            "width": 0
           },
           "opacity": 0.3
          },
          "ternary": {
           "aaxis": {
            "gridcolor": "rgb(232,232,232)",
            "linecolor": "rgb(36,36,36)",
            "showgrid": false,
            "showline": true,
            "ticks": "outside"
           },
           "baxis": {
            "gridcolor": "rgb(232,232,232)",
            "linecolor": "rgb(36,36,36)",
            "showgrid": false,
            "showline": true,
            "ticks": "outside"
           },
           "bgcolor": "white",
           "caxis": {
            "gridcolor": "rgb(232,232,232)",
            "linecolor": "rgb(36,36,36)",
            "showgrid": false,
            "showline": true,
            "ticks": "outside"
           }
          },
          "title": {
           "x": 0.05
          },
          "xaxis": {
           "automargin": true,
           "gridcolor": "rgb(232,232,232)",
           "linecolor": "rgb(36,36,36)",
           "showgrid": false,
           "showline": true,
           "ticks": "outside",
           "title": {
            "standoff": 15
           },
           "zeroline": false,
           "zerolinecolor": "rgb(36,36,36)"
          },
          "yaxis": {
           "automargin": true,
           "gridcolor": "rgb(232,232,232)",
           "linecolor": "rgb(36,36,36)",
           "showgrid": false,
           "showline": true,
           "ticks": "outside",
           "title": {
            "standoff": 15
           },
           "zeroline": false,
           "zerolinecolor": "rgb(36,36,36)"
          }
         }
        },
        "title": {
         "text": "Densification Estimates for All Files"
        },
        "width": 1000,
        "xaxis": {
         "anchor": "y",
         "domain": [
          0,
          1
         ],
         "matches": "x3",
         "showticklabels": false
        },
        "xaxis2": {
         "anchor": "y2",
         "domain": [
          0,
          1
         ],
         "matches": "x3",
         "showticklabels": false
        },
        "xaxis3": {
         "anchor": "y3",
         "domain": [
          0,
          1
         ],
         "title": {
          "text": "Snapshot ID"
         }
        },
        "yaxis": {
         "anchor": "x",
         "domain": [
          0.7133333333333334,
          1
         ],
         "title": {
          "text": "Kappa (κ_t)"
         }
        },
        "yaxis2": {
         "anchor": "x2",
         "domain": [
          0.3566666666666667,
          0.6433333333333333
         ],
         "title": {
          "text": "Estimated Np_t"
         }
        },
        "yaxis3": {
         "anchor": "x3",
         "domain": [
          0,
          0.2866666666666667
         ],
         "title": {
          "text": "M_t (edges)"
         }
        }
       }
      },
      "image/png": "[encoded data removed]",
      "text/html": [
       "<div>                            <div id=\"7567bb20-e57e-4020-bd37-4234ac863061\" class=\"plotly-graph-div\" style=\"height:900px; width:1000px;\"></div>            <script type=\"text/javascript\">                require([\"plotly\"], function(Plotly) {                    window.PLOTLYENV=window.PLOTLYENV || {};                                    if (document.getElementById(\"7567bb20-e57e-4020-bd37-4234ac863061\")) {                    Plotly.newPlot(                        \"7567bb20-e57e-4020-bd37-4234ac863061\",                        [{\"mode\":\"lines\",\"name\":\"nm_foyer_1 \\u03ba\",\"y\":[1.225,2.8000000000000003,0.5750000000000001,0.9,0.65,0.45,0.2,0.225,0.125,0.15,0.125,0.2,0.1,0.15,0.125,0.25,0.225,0.9,0.8500000000000001,0.8500000000000001,0.375,0.675,0.5,0.05,0.1,0.75,1.05,0.675,4.0,3.95,1.3250000000000002,1.75,1.4,0.55,0.35,0.35,0.5,0.125,0.025,0.425,0.525,0.55,3.9,3.9,0.875,3.95,2.825,3.925,1.25,1.25,1.425,0.75,0.375,0.625,1.25,0.6000000000000001,0.375,0.375,0.35,1.025,1.3,4.0,3.875,4.0,2.5500000000000003,1.125,0.65,0.2,0.275,0.225,0.425,0.125,0.4,1.075,0.15,1.175,0.225,0.975,0.8,0.55,0.45,0.175,0.325,0.55,0.125,0.125,1.4,0.7250000000000001,0.6000000000000001,0.675,0.525,0.45,0.4,0.5750000000000001,0.325,0.5,0.375,0.425,0.35,1.3,3.2750000000000004,1.275,0.8,0.5,0.7000000000000001,0.35,0.35,0.175,0.5750000000000001,0.325,0.175,0.225,1.15,1.15,0.125,0.375,0.325,0.675,0.025],\"type\":\"scatter\",\"xaxis\":\"x\",\"yaxis\":\"y\"},{\"mode\":\"lines\",\"name\":\"nm_foyer_1 Np\",\"y\":[11.0,13.0,30.0,44.0,65.0,76.0,40.0,21.0,32.0,24.0,32.0,39.0,49.0,23.0,33.0,28.0,34.0,115.0,117.0,109.0,28.0,19.0,16.0,41.0,38.0,122.0,27.0,9.0,3.0,5.0,7.0,9.0,24.0,91.0,80.0,23.0,16.0,23.0,27.0,106.0,68.0,13.0,4.0,3.0,7.0,5.0,5.0,5.0,10.0,10.0,10.0,30.0,86.0,17.0,18.0,25.0,22.0,79.0,81.0,26.0,16.0,7.0,8.0,9.0,14.0,27.0,37.0,44.0,21.0,29.0,25.0,36.0,24.0,11.0,24.0,9.0,24.0,91.0,93.0,95.0,83.0,23.0,16.0,11.0,25.0,32.0,12.0,102.0,102.0,101.0,100.0,99.0,95.0,92.0,94.0,87.0,34.0,16.0,22.0,14.0,7.0,13.0,87.0,83.0,85.0,46.0,16.0,23.0,18.0,16.0,25.0,19.0,8.0,8.0,15.0,30.0,58.0,13.0,27.0],\"type\":\"scatter\",\"xaxis\":\"x2\",\"yaxis\":\"y2\"},{\"mode\":\"lines\",\"name\":\"nm_foyer_1 M\",\"y\":[14,33,56,163,295,304,35,13,16,11,16,35,31,9,15,22,26,1196,1181,1139,35,29,13,10,19,1182,72,6,2,7,6,11,71,532,257,19,13,8,2,538,287,10,4,3,4,7,5,6,12,12,13,74,335,18,38,40,20,297,261,70,34,19,24,27,41,84,94,45,14,21,30,20,27,13,11,9,16,793,721,571,377,12,9,7,10,16,19,741,646,684,591,530,399,532,325,453,51,14,18,24,11,19,613,406,583,88,11,12,17,10,13,9,7,7,3,38,133,11,2],\"type\":\"scatter\",\"xaxis\":\"x3\",\"yaxis\":\"y3\"},{\"mode\":\"lines\",\"name\":\"nm_mainroom_3 \\u03ba\",\"y\":[0.7000000000000001,1.5,3.9,0.275,1.175,1.0,0.625,0.075,0.05,0.05,0.025,0.05,0.075,0.075,0.05,0.025,0.025,0.05,0.8500000000000001,1.0,0.9,0.1,0.075,0.075,0.05,0.05,0.7000000000000001,3.95,0.05,0.8,0.425,0.225,0.075,0.05,0.05,0.05,0.375,0.2,3.95,3.95,0.05,0.5750000000000001,0.3,0.025,0.025,0.05,0.05,0.275,0.4,0.1,3.9,3.95,3.2750000000000004,3.925,3.95,1.3250000000000002,1.025,0.4,0.175,0.05,0.05,0.175,0.1,0.125,0.075,0.1,0.075,0.05,1.0,0.8500000000000001,1.3,0.45,0.05,0.05,0.05,0.025,0.05,0.05,0.7000000000000001,0.7000000000000001,0.875,3.95,0.475,0.15,0.275,0.6000000000000001,0.1,0.05,0.05,0.05,0.05,0.05,0.875,0.45,0.8,0.2,0.025,0.025,0.025,0.075,0.05,0.025,0.05,0.05,0.025,0.225,0.475,2.825],\"type\":\"scatter\",\"xaxis\":\"x\",\"yaxis\":\"y\"},{\"mode\":\"lines\",\"name\":\"nm_mainroom_3 Np\",\"y\":[8.0,8.0,3.0,13.0,9.0,17.0,60.0,75.0,102.0,93.0,118.0,109.0,101.0,111.0,98.0,131.0,135.0,107.0,112.0,35.0,103.0,113.0,92.0,90.0,98.0,106.0,116.0,2.0,27.0,13.0,54.0,105.0,88.0,108.0,101.0,108.0,113.0,27.0,2.0,2.0,27.0,16.0,82.0,111.0,105.0,91.0,98.0,95.0,55.0,23.0,9.0,2.0,7.0,7.0,9.0,7.0,15.0,26.0,42.0,49.0,49.0,39.0,51.0,72.0,65.0,70.0,71.0,82.0,88.0,20.0,21.0,79.0,88.0,104.0,94.0,122.0,114.0,102.0,95.0,14.0,7.0,2.0,13.0,23.0,23.0,68.0,80.0,83.0,98.0,92.0,91.0,91.0,82.0,21.0,52.0,62.0,93.0,82.0,97.0,71.0,87.0,99.0,72.0,85.0,104.0,75.0,48.0,5.0],\"type\":\"scatter\",\"xaxis\":\"x2\",\"yaxis\":\"y2\"},{\"mode\":\"lines\",\"name\":\"nm_mainroom_3 M\",\"y\":[5,8,3,5,9,30,250,49,66,47,45,69,87,99,57,45,60,77,1112,117,998,143,85,76,61,66,1031,1,4,14,148,296,62,73,63,66,563,18,1,1,4,16,244,42,36,52,53,310,140,6,21,1,11,15,28,6,26,35,36,15,15,28,30,75,43,55,52,38,767,35,52,325,47,56,51,53,82,59,679,13,4,1,8,9,17,291,73,40,53,46,49,49,572,23,237,89,28,23,26,47,41,33,31,38,31,151,122,5],\"type\":\"scatter\",\"xaxis\":\"x3\",\"yaxis\":\"y3\"},{\"mode\":\"lines\",\"name\":\"nm_posterroom_2 \\u03ba\",\"y\":[3.95,0.125,3.925,3.125,1.25,3.2750000000000004,3.9,3.95,1.55,1.275,3.9,3.9,3.95,0.8250000000000001,0.35,0.3,0.2,0.35,0.35,0.525,0.625,0.475,0.65,0.15,3.95,3.95,3.95,3.9,0.4,0.7000000000000001,0.75,0.55,0.8250000000000001,0.875,0.625,0.8500000000000001,0.5750000000000001,0.7250000000000001,0.6000000000000001,0.625,0.45,0.6000000000000001,0.475,0.7000000000000001,3.9,2.475,3.95],\"type\":\"scatter\",\"xaxis\":\"x\",\"yaxis\":\"y\"},{\"mode\":\"lines\",\"name\":\"nm_posterroom_2 Np\",\"y\":[2.0,15.0,5.0,7.0,10.0,6.0,3.0,2.0,12.0,15.0,4.0,4.0,2.0,99.0,122.0,117.0,125.0,116.0,105.0,104.0,98.0,92.0,91.0,23.0,2.0,2.0,2.0,3.0,40.0,112.0,117.0,116.0,112.0,106.0,105.0,108.0,104.0,96.0,100.0,93.0,96.0,100.0,73.0,8.0,3.0,6.0,2.0],\"type\":\"scatter\",\"xaxis\":\"x2\",\"yaxis\":\"y2\"},{\"mode\":\"lines\",\"name\":\"nm_posterroom_2 M\",\"y\":[1,3,6,10,12,8,3,1,20,27,4,4,1,903,552,469,364,526,456,665,676,443,576,9,1,1,1,3,74,994,1153,885,1024,1011,779,994,720,732,683,600,513,653,270,5,3,7,1],\"type\":\"scatter\",\"xaxis\":\"x3\",\"yaxis\":\"y3\"}],                        {\"template\":{\"data\":{\"barpolar\":[{\"marker\":{\"line\":{\"color\":\"white\",\"width\":0.5},\"pattern\":{\"fillmode\":\"overlay\",\"size\":10,\"solidity\":0.2}},\"type\":\"barpolar\"}],\"bar\":[{\"error_x\":{\"color\":\"rgb(36,36,36)\"},\"error_y\":{\"color\":\"rgb(36,36,36)\"},\"marker\":{\"line\":{\"color\":\"white\",\"width\":0.5},\"pattern\":{\"fillmode\":\"overlay\",\"size\":10,\"solidity\":0.2}},\"type\":\"bar\"}],\"carpet\":[{\"aaxis\":{\"endlinecolor\":\"rgb(36,36,36)\",\"gridcolor\":\"white\",\"linecolor\":\"white\",\"minorgridcolor\":\"white\",\"startlinecolor\":\"rgb(36,36,36)\"},\"baxis\":{\"endlinecolor\":\"rgb(36,36,36)\",\"gridcolor\":\"white\",\"linecolor\":\"white\",\"minorgridcolor\":\"white\",\"startlinecolor\":\"rgb(36,36,36)\"},\"type\":\"carpet\"}],\"choropleth\":[{\"colorbar\":{\"outlinewidth\":1,\"tickcolor\":\"rgb(36,36,36)\",\"ticks\":\"outside\"},\"type\":\"choropleth\"}],\"contourcarpet\":[{\"colorbar\":{\"outlinewidth\":1,\"tickcolor\":\"rgb(36,36,36)\",\"ticks\":\"outside\"},\"type\":\"contourcarpet\"}],\"contour\":[{\"colorbar\":{\"outlinewidth\":1,\"tickcolor\":\"rgb(36,36,36)\",\"ticks\":\"outside\"},\"colorscale\":[[0.0,\"#440154\"],[0.1111111111111111,\"#482878\"],[0.2222222222222222,\"#3e4989\"],[0.3333333333333333,\"#31688e\"],[0.4444444444444444,\"#26828e\"],[0.5555555555555556,\"#1f9e89\"],[0.6666666666666666,\"#35b779\"],[0.7777777777777778,\"#6ece58\"],[0.8888888888888888,\"#b5de2b\"],[1.0,\"#fde725\"]],\"type\":\"contour\"}],\"heatmapgl\":[{\"colorbar\":{\"outlinewidth\":1,\"tickcolor\":\"rgb(36,36,36)\",\"ticks\":\"outside\"},\"colorscale\":[[0.0,\"#440154\"],[0.1111111111111111,\"#482878\"],[0.2222222222222222,\"#3e4989\"],[0.3333333333333333,\"#31688e\"],[0.4444444444444444,\"#26828e\"],[0.5555555555555556,\"#1f9e89\"],[0.6666666666666666,\"#35b779\"],[0.7777777777777778,\"#6ece58\"],[0.8888888888888888,\"#b5de2b\"],[1.0,\"#fde725\"]],\"type\":\"heatmapgl\"}],\"heatmap\":[{\"colorbar\":{\"outlinewidth\":1,\"tickcolor\":\"rgb(36,36,36)\",\"ticks\":\"outside\"},\"colorscale\":[[0.0,\"#440154\"],[0.1111111111111111,\"#482878\"],[0.2222222222222222,\"#3e4989\"],[0.3333333333333333,\"#31688e\"],[0.4444444444444444,\"#26828e\"],[0.5555555555555556,\"#1f9e89\"],[0.6666666666666666,\"#35b779\"],[0.7777777777777778,\"#6ece58\"],[0.8888888888888888,\"#b5de2b\"],[1.0,\"#fde725\"]],\"type\":\"heatmap\"}],\"histogram2dcontour\":[{\"colorbar\":{\"outlinewidth\":1,\"tickcolor\":\"rgb(36,36,36)\",\"ticks\":\"outside\"},\"colorscale\":[[0.0,\"#440154\"],[0.1111111111111111,\"#482878\"],[0.2222222222222222,\"#3e4989\"],[0.3333333333333333,\"#31688e\"],[0.4444444444444444,\"#26828e\"],[0.5555555555555556,\"#1f9e89\"],[0.6666666666666666,\"#35b779\"],[0.7777777777777778,\"#6ece58\"],[0.8888888888888888,\"#b5de2b\"],[1.0,\"#fde725\"]],\"type\":\"histogram2dcontour\"}],\"histogram2d\":[{\"colorbar\":{\"outlinewidth\":1,\"tickcolor\":\"rgb(36,36,36)\",\"ticks\":\"outside\"},\"colorscale\":[[0.0,\"#440154\"],[0.1111111111111111,\"#482878\"],[0.2222222222222222,\"#3e4989\"],[0.3333333333333333,\"#31688e\"],[0.4444444444444444,\"#26828e\"],[0.5555555555555556,\"#1f9e89\"],[0.6666666666666666,\"#35b779\"],[0.7777777777777778,\"#6ece58\"],[0.8888888888888888,\"#b5de2b\"],[1.0,\"#fde725\"]],\"type\":\"histogram2d\"}],\"histogram\":[{\"marker\":{\"line\":{\"color\":\"white\",\"width\":0.6}},\"type\":\"histogram\"}],\"mesh3d\":[{\"colorbar\":{\"outlinewidth\":1,\"tickcolor\":\"rgb(36,36,36)\",\"ticks\":\"outside\"},\"type\":\"mesh3d\"}],\"parcoords\":[{\"line\":{\"colorbar\":{\"outlinewidth\":1,\"tickcolor\":\"rgb(36,36,36)\",\"ticks\":\"outside\"}},\"type\":\"parcoords\"}],\"pie\":[{\"automargin\":true,\"type\":\"pie\"}],\"scatter3d\":[{\"line\":{\"colorbar\":{\"outlinewidth\":1,\"tickcolor\":\"rgb(36,36,36)\",\"ticks\":\"outside\"}},\"marker\":{\"colorbar\":{\"outlinewidth\":1,\"tickcolor\":\"rgb(36,36,36)\",\"ticks\":\"outside\"}},\"type\":\"scatter3d\"}],\"scattercarpet\":[{\"marker\":{\"colorbar\":{\"outlinewidth\":1,\"tickcolor\":\"rgb(36,36,36)\",\"ticks\":\"outside\"}},\"type\":\"scattercarpet\"}],\"scattergeo\":[{\"marker\":{\"colorbar\":{\"outlinewidth\":1,\"tickcolor\":\"rgb(36,36,36)\",\"ticks\":\"outside\"}},\"type\":\"scattergeo\"}],\"scattergl\":[{\"marker\":{\"colorbar\":{\"outlinewidth\":1,\"tickcolor\":\"rgb(36,36,36)\",\"ticks\":\"outside\"}},\"type\":\"scattergl\"}],\"scattermapbox\":[{\"marker\":{\"colorbar\":{\"outlinewidth\":1,\"tickcolor\":\"rgb(36,36,36)\",\"ticks\":\"outside\"}},\"type\":\"scattermapbox\"}],\"scatterpolargl\":[{\"marker\":{\"colorbar\":{\"outlinewidth\":1,\"tickcolor\":\"rgb(36,36,36)\",\"ticks\":\"outside\"}},\"type\":\"scatterpolargl\"}],\"scatterpolar\":[{\"marker\":{\"colorbar\":{\"outlinewidth\":1,\"tickcolor\":\"rgb(36,36,36)\",\"ticks\":\"outside\"}},\"type\":\"scatterpolar\"}],\"scatter\":[{\"fillpattern\":{\"fillmode\":\"overlay\",\"size\":10,\"solidity\":0.2},\"type\":\"scatter\"}],\"scatterternary\":[{\"marker\":{\"colorbar\":{\"outlinewidth\":1,\"tickcolor\":\"rgb(36,36,36)\",\"ticks\":\"outside\"}},\"type\":\"scatterternary\"}],\"surface\":[{\"colorbar\":{\"outlinewidth\":1,\"tickcolor\":\"rgb(36,36,36)\",\"ticks\":\"outside\"},\"colorscale\":[[0.0,\"#440154\"],[0.1111111111111111,\"#482878\"],[0.2222222222222222,\"#3e4989\"],[0.3333333333333333,\"#31688e\"],[0.4444444444444444,\"#26828e\"],[0.5555555555555556,\"#1f9e89\"],[0.6666666666666666,\"#35b779\"],[0.7777777777777778,\"#6ece58\"],[0.8888888888888888,\"#b5de2b\"],[1.0,\"#fde725\"]],\"type\":\"surface\"}],\"table\":[{\"cells\":{\"fill\":{\"color\":\"rgb(237,237,237)\"},\"line\":{\"color\":\"white\"}},\"header\":{\"fill\":{\"color\":\"rgb(217,217,217)\"},\"line\":{\"color\":\"white\"}},\"type\":\"table\"}]},\"layout\":{\"annotationdefaults\":{\"arrowhead\":0,\"arrowwidth\":1},\"autotypenumbers\":\"strict\",\"coloraxis\":{\"colorbar\":{\"outlinewidth\":1,\"tickcolor\":\"rgb(36,36,36)\",\"ticks\":\"outside\"}},\"colorscale\":{\"diverging\":[[0.0,\"rgb(103,0,31)\"],[0.1,\"rgb(178,24,43)\"],[0.2,\"rgb(214,96,77)\"],[0.3,\"rgb(244,165,130)\"],[0.4,\"rgb(253,219,199)\"],[0.5,\"rgb(247,247,247)\"],[0.6,\"rgb(209,229,240)\"],[0.7,\"rgb(146,197,222)\"],[0.8,\"rgb(67,147,195)\"],[0.9,\"rgb(33,102,172)\"],[1.0,\"rgb(5,48,97)\"]],\"sequential\":[[0.0,\"#440154\"],[0.1111111111111111,\"#482878\"],[0.2222222222222222,\"#3e4989\"],[0.3333333333333333,\"#31688e\"],[0.4444444444444444,\"#26828e\"],[0.5555555555555556,\"#1f9e89\"],[0.6666666666666666,\"#35b779\"],[0.7777777777777778,\"#6ece58\"],[0.8888888888888888,\"#b5de2b\"],[1.0,\"#fde725\"]],\"sequentialminus\":[[0.0,\"#440154\"],[0.1111111111111111,\"#482878\"],[0.2222222222222222,\"#3e4989\"],[0.3333333333333333,\"#31688e\"],[0.4444444444444444,\"#26828e\"],[0.5555555555555556,\"#1f9e89\"],[0.6666666666666666,\"#35b779\"],[0.7777777777777778,\"#6ece58\"],[0.8888888888888888,\"#b5de2b\"],[1.0,\"#fde725\"]]},\"colorway\":[\"#1F77B4\",\"#FF7F0E\",\"#2CA02C\",\"#D62728\",\"#9467BD\",\"#8C564B\",\"#E377C2\",\"#7F7F7F\",\"#BCBD22\",\"#17BECF\"],\"font\":{\"color\":\"rgb(36,36,36)\"},\"geo\":{\"bgcolor\":\"white\",\"lakecolor\":\"white\",\"landcolor\":\"white\",\"showlakes\":true,\"showland\":true,\"subunitcolor\":\"white\"},\"hoverlabel\":{\"align\":\"left\"},\"hovermode\":\"closest\",\"mapbox\":{\"style\":\"light\"},\"paper_bgcolor\":\"white\",\"plot_bgcolor\":\"white\",\"polar\":{\"angularaxis\":{\"gridcolor\":\"rgb(232,232,232)\",\"linecolor\":\"rgb(36,36,36)\",\"showgrid\":false,\"showline\":true,\"ticks\":\"outside\"},\"bgcolor\":\"white\",\"radialaxis\":{\"gridcolor\":\"rgb(232,232,232)\",\"linecolor\":\"rgb(36,36,36)\",\"showgrid\":false,\"showline\":true,\"ticks\":\"outside\"}},\"scene\":{\"xaxis\":{\"backgroundcolor\":\"white\",\"gridcolor\":\"rgb(232,232,232)\",\"gridwidth\":2,\"linecolor\":\"rgb(36,36,36)\",\"showbackground\":true,\"showgrid\":false,\"showline\":true,\"ticks\":\"outside\",\"zeroline\":false,\"zerolinecolor\":\"rgb(36,36,36)\"},\"yaxis\":{\"backgroundcolor\":\"white\",\"gridcolor\":\"rgb(232,232,232)\",\"gridwidth\":2,\"linecolor\":\"rgb(36,36,36)\",\"showbackground\":true,\"showgrid\":false,\"showline\":true,\"ticks\":\"outside\",\"zeroline\":false,\"zerolinecolor\":\"rgb(36,36,36)\"},\"zaxis\":{\"backgroundcolor\":\"white\",\"gridcolor\":\"rgb(232,232,232)\",\"gridwidth\":2,\"linecolor\":\"rgb(36,36,36)\",\"showbackground\":true,\"showgrid\":false,\"showline\":true,\"ticks\":\"outside\",\"zeroline\":false,\"zerolinecolor\":\"rgb(36,36,36)\"}},\"shapedefaults\":{\"fillcolor\":\"black\",\"line\":{\"width\":0},\"opacity\":0.3},\"ternary\":{\"aaxis\":{\"gridcolor\":\"rgb(232,232,232)\",\"linecolor\":\"rgb(36,36,36)\",\"showgrid\":false,\"showline\":true,\"ticks\":\"outside\"},\"baxis\":{\"gridcolor\":\"rgb(232,232,232)\",\"linecolor\":\"rgb(36,36,36)\",\"showgrid\":false,\"showline\":true,\"ticks\":\"outside\"},\"bgcolor\":\"white\",\"caxis\":{\"gridcolor\":\"rgb(232,232,232)\",\"linecolor\":\"rgb(36,36,36)\",\"showgrid\":false,\"showline\":true,\"ticks\":\"outside\"}},\"title\":{\"x\":0.05},\"xaxis\":{\"automargin\":true,\"gridcolor\":\"rgb(232,232,232)\",\"linecolor\":\"rgb(36,36,36)\",\"showgrid\":false,\"showline\":true,\"ticks\":\"outside\",\"title\":{\"standoff\":15},\"zeroline\":false,\"zerolinecolor\":\"rgb(36,36,36)\"},\"yaxis\":{\"automargin\":true,\"gridcolor\":\"rgb(232,232,232)\",\"linecolor\":\"rgb(36,36,36)\",\"showgrid\":false,\"showline\":true,\"ticks\":\"outside\",\"title\":{\"standoff\":15},\"zeroline\":false,\"zerolinecolor\":\"rgb(36,36,36)\"}}},\"xaxis\":{\"anchor\":\"y\",\"domain\":[0.0,1.0],\"matches\":\"x3\",\"showticklabels\":false},\"yaxis\":{\"anchor\":\"x\",\"domain\":[0.7133333333333334,1.0],\"title\":{\"text\":\"Kappa (\\u03ba_t)\"}},\"xaxis2\":{\"anchor\":\"y2\",\"domain\":[0.0,1.0],\"matches\":\"x3\",\"showticklabels\":false},\"yaxis2\":{\"anchor\":\"x2\",\"domain\":[0.3566666666666667,0.6433333333333333],\"title\":{\"text\":\"Estimated Np_t\"}},\"xaxis3\":{\"anchor\":\"y3\",\"domain\":[0.0,1.0],\"title\":{\"text\":\"Snapshot ID\"}},\"yaxis3\":{\"anchor\":\"x3\",\"domain\":[0.0,0.2866666666666667],\"title\":{\"text\":\"M_t (edges)\"}},\"annotations\":[{\"font\":{\"size\":16},\"showarrow\":false,\"text\":\"Kappa (\\u03ba_t)\",\"x\":0.5,\"xanchor\":\"center\",\"xref\":\"paper\",\"y\":1.0,\"yanchor\":\"bottom\",\"yref\":\"paper\"},{\"font\":{\"size\":16},\"showarrow\":false,\"text\":\"Estimated Np_t\",\"x\":0.5,\"xanchor\":\"center\",\"xref\":\"paper\",\"y\":0.6433333333333333,\"yanchor\":\"bottom\",\"yref\":\"paper\"},{\"font\":{\"size\":16},\"showarrow\":false,\"text\":\"M_t (edges)\",\"x\":0.5,\"xanchor\":\"center\",\"xref\":\"paper\",\"y\":0.2866666666666667,\"yanchor\":\"bottom\",\"yref\":\"paper\"}],\"title\":{\"text\":\"Densification Estimates for All Files\"},\"height\":900,\"width\":1000,\"showlegend\":true},                        {\"responsive\": true}                    ).then(function(){\n",
       "                            \n",
       "var gd = document.getElementById('7567bb20-e57e-4020-bd37-4234ac863061');\n",
       "var x = new MutationObserver(function (mutations, observer) {{\n",
       "        var display = window.getComputedStyle(gd).display;\n",
       "        if (!display || display === 'none') {{\n",
       "            console.log([gd, 'removed!']);\n",
       "            Plotly.purge(gd);\n",
       "            observer.disconnect();\n",
       "        }}\n",
       "}});\n",
       "\n",
       "// Listen for the removal of the full notebook cells\n",
       "var notebookContainer = gd.closest('#notebook-container');\n",
       "if (notebookContainer) {{\n",
       "    x.observe(notebookContainer, {childList: true});\n",
       "}}\n",
       "\n",
       "// Listen for the clearing of the current output cell\n",
       "var outputEl = gd.closest('.output');\n",
       "if (outputEl) {{\n",
       "    x.observe(outputEl, {childList: true});\n",
       "}}\n",
       "\n",
       "                        })                };                });            </script>        </div>"
      ]
     },
     "metadata": {},
     "output_type": "display_data"
    }
   ],
   "source": [
    "# === Create multi-panel Plotly figure ===\n",
    "fig = make_subplots(\n",
    "    rows=3, cols=1,\n",
    "    shared_xaxes=True,\n",
    "    vertical_spacing=0.07,\n",
    "    subplot_titles=[\"Kappa (κ_t)\", \"Estimated Np_t\", \"M_t (edges)\"]\n",
    ")\n",
    "\n",
    "for item in estimates_per_file:\n",
    "    label = item[\"label\"]\n",
    "    data = item[\"data\"]\n",
    "    est = item[\"estimates\"]\n",
    "\n",
    "    fig.add_trace(go.Scatter(\n",
    "        y=est[\"kappa\"], mode=\"lines\", name=f\"{label} κ\"\n",
    "    ), row=1, col=1)\n",
    "\n",
    "    fig.add_trace(go.Scatter(\n",
    "        y=est[\"np\"], mode=\"lines\", name=f\"{label} Np\"\n",
    "    ), row=2, col=1)\n",
    "\n",
    "    fig.add_trace(go.Scatter(\n",
    "        y=data[\"M\"], mode=\"lines\", name=f\"{label} M\"\n",
    "    ), row=3, col=1)\n",
    "\n",
    "# === Style and show ===\n",
    "fig.update_layout(\n",
    "    height=900,\n",
    "    width=1000,\n",
    "    title_text=\"Densification Estimates for All Files\",\n",
    "    showlegend=True,\n",
    "    template=\"simple_white\"\n",
    ")\n",
    "\n",
    "fig.update_xaxes(title_text=\"Snapshot ID\", row=3, col=1)\n",
    "fig.update_yaxes(title_text=\"Kappa (κ_t)\", row=1, col=1)\n",
    "fig.update_yaxes(title_text=\"Estimated Np_t\", row=2, col=1)\n",
    "fig.update_yaxes(title_text=\"M_t (edges)\", row=3, col=1)\n",
    "\n",
    "print(\"📊 Plot is ready. Showing interactive viewer...\")\n",
    "fig.show()\n"
   ]
  },
  {
   "cell_type": "code",
   "execution_count": null,
   "metadata": {},
   "outputs": [],
   "source": []
  },
  {
   "cell_type": "code",
   "execution_count": null,
   "metadata": {},
   "outputs": [],
   "source": []
  },
  {
   "cell_type": "code",
   "execution_count": null,
   "metadata": {},
   "outputs": [],
   "source": []
  },
  {
   "cell_type": "code",
   "execution_count": null,
   "metadata": {},
   "outputs": [],
   "source": []
  }
 ],
 "metadata": {
  "kernelspec": {
   "display_name": "Python [conda env:base] *",
   "language": "python",
   "name": "conda-base-py"
  },
  "language_info": {
   "codemirror_mode": {
    "name": "ipython",
    "version": 3
   },
   "file_extension": ".py",
   "mimetype": "text/x-python",
   "name": "python",
   "nbconvert_exporter": "python",
   "pygments_lexer": "ipython3",
   "version": "3.12.3"
  }
 },
 "nbformat": 4,
 "nbformat_minor": 4
}
