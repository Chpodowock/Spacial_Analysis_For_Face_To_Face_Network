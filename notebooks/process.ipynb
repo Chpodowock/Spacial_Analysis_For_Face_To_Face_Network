{
 "cells": [
  {
   "cell_type": "code",
   "execution_count": 1,
   "id": "c03f86af-e65f-44db-89a4-0e8115cde4b3",
   "metadata": {
    "execution": {
     "iopub.execute_input": "2025-06-14T12:02:38.511743Z",
     "iopub.status.busy": "2025-06-14T12:02:38.511743Z",
     "iopub.status.idle": "2025-06-14T12:02:38.520017Z",
     "shell.execute_reply": "2025-06-14T12:02:38.518982Z",
     "shell.execute_reply.started": "2025-06-14T12:02:38.511743Z"
    }
   },
   "outputs": [],
   "source": [
    "#pip install scipy\n",
    "#pip install shapely\n",
    "#pip install dash\n",
    "#pip install networkx\n",
    "#pip install scikit-learn\n",
    "#pip install -U kaleido"
   ]
  },
  {
   "cell_type": "markdown",
   "id": "21d32b7f-71b6-4215-82cb-8eee3f3480bc",
   "metadata": {},
   "source": [
    "# 🚀 Experiment Execution Flow"
   ]
  },
  {
   "cell_type": "code",
   "execution_count": 3,
   "id": "831d7e2c-19ec-4630-8c76-5a94d7ff1de9",
   "metadata": {
    "execution": {
     "iopub.execute_input": "2025-06-14T12:02:39.424149Z",
     "iopub.status.busy": "2025-06-14T12:02:39.424149Z",
     "iopub.status.idle": "2025-06-14T12:02:52.709708Z",
     "shell.execute_reply": "2025-06-14T12:02:52.708676Z",
     "shell.execute_reply.started": "2025-06-14T12:02:39.424149Z"
    },
    "tags": []
   },
   "outputs": [
    {
     "name": "stdout",
     "output_type": "stream",
     "text": [
      "✅ Loaded experiment definition from experiments_config.json\n",
      "✅ Loaded contact data file: tij_with_readers_WS16.dat\n",
      "✅ Converted and renamed 'readers' column to 'signature'.\n",
      "✅ Loaded periods file: periodes_WS16.dat\n",
      "🔄 Synchronizing periods for WS16 (offset: 1h)...\n",
      "✅ Loaded plan 'Foyer' (3309x2339) with 3 readers\n",
      "✅ Loaded plan 'MainRoom' (3309x2339) with 2 readers\n",
      "✅ Loaded plan 'PosterRoomStairs' (3309x2339) with 1 readers\n",
      "✅ Loaded plan 'PosterRoom' (3309x2339) with 2 readers\n",
      "✅ Computed 37 signatures.\n",
      "✅ DisplayManager initialized with Plotter, Matrixer, and Networker.\n",
      "✅ Mapper initialized with 4 plans.\n"
     ]
    }
   ],
   "source": [
    "import sys\n",
    "from pathlib import Path\n",
    "\n",
    "base_dir = Path.cwd().parent\n",
    "src_path = base_dir / \"src\"\n",
    "\n",
    "if str(src_path) not in sys.path:\n",
    "    sys.path.append(str(src_path))\n",
    "\n",
    "    \n",
    "from project_setup import (\n",
    "    setup_paths,\n",
    "    load_experiments_dict,\n",
    "    import_and_reload_modules\n",
    ")\n",
    "\n",
    "# Set paths and load experiments\n",
    "base_dir, src_path = setup_paths()\n",
    "experiments_definition = load_experiments_dict(\"experiments_config.json\")\n",
    "\n",
    "# Import project classes\n",
    "WorldModel, DisplayManager, MatrixSimilarity, NetworkManager = import_and_reload_modules()\n",
    "\n",
    "# Plotly settings\n",
    "import plotly.io as pio\n",
    "pio.renderers.default = \"iframe_connected\"\n",
    "\n",
    "# Experiment configuration\n",
    "experiment_id = \"WS16\"\n",
    "experiment_display_scale = {\n",
    "    \"ECIR19\": 0.28,\n",
    "    \"ECSS18\": 0.15,\n",
    "    \"ICCSS17\": 0.3,\n",
    "    \"WS16\": 0.15\n",
    "}\n",
    "\n",
    "# Initialize world & displayer\n",
    "world = WorldModel(experiment_id, experiments_definition, base_dir)\n",
    "world.initialize()\n",
    "\n",
    "Displayer = DisplayManager(world)\n"
   ]
  },
  {
   "cell_type": "markdown",
   "id": "0a859a00-0ba5-465e-9790-a92528ab24cc",
   "metadata": {},
   "source": [
    "## 🔄 Period Detection & Adjustment Pipeline"
   ]
  },
  {
   "cell_type": "code",
   "execution_count": 5,
   "id": "1973558c-eae5-40b4-b8e2-1fd490553485",
   "metadata": {
    "execution": {
     "iopub.execute_input": "2025-06-14T12:02:52.733078Z",
     "iopub.status.busy": "2025-06-14T12:02:52.733078Z",
     "iopub.status.idle": "2025-06-14T12:02:55.627477Z",
     "shell.execute_reply": "2025-06-14T12:02:55.627388Z",
     "shell.execute_reply.started": "2025-06-14T12:02:52.733078Z"
    },
    "tags": []
   },
   "outputs": [
    {
     "name": "stdout",
     "output_type": "stream",
     "text": [
      "🔍 Detecting transitions for WS16...\n",
      "✅ Detected 49 transitions.\n",
      "🛠️ Adjusting periods with transitions for WS16...\n",
      "✅ Final periods updated: 32 entries.\n",
      "📈 Debug Plot: Raw, Smoothed & Derivative\n"
     ]
    }
   ],
   "source": [
    "# 🔍 Detect Transitions (Activity-based)\n",
    "debug_data = world.period_manager.detect_transitions(\n",
    "    threshold_pos=0.1, threshold_neg=-0.05, smooth_sigma=2, freq=\"1min\", debug=True\n",
    ")\n",
    "if debug_data:\n",
    "    fig = Displayer.plotter.plot_transition_debug_activity(\n",
    "        activity_series=debug_data[\"activity_series\"],\n",
    "        smoothed=debug_data[\"smoothed\"],\n",
    "        norm_derivative=debug_data[\"norm_derivative\"],\n",
    "        transition_df=debug_data[\"transition_df\"],\n",
    "        experiment_id=world.experiment_id,\n",
    "        smooth_sigma=debug_data[\"smooth_sigma\"],\n",
    "    )"
   ]
  },
  {
   "cell_type": "code",
   "execution_count": 6,
   "id": "b3d066f9-2261-49c0-b73f-f38fed45f436",
   "metadata": {
    "execution": {
     "iopub.execute_input": "2025-06-14T12:02:55.629502Z",
     "iopub.status.busy": "2025-06-14T12:02:55.629502Z",
     "iopub.status.idle": "2025-06-14T12:02:55.711394Z",
     "shell.execute_reply": "2025-06-14T12:02:55.711394Z",
     "shell.execute_reply.started": "2025-06-14T12:02:55.629502Z"
    }
   },
   "outputs": [
    {
     "name": "stdout",
     "output_type": "stream",
     "text": [
      "🔍 Detecting transitions for WS16...\n",
      "✅ Detected 49 transitions.\n",
      "🛠️ Adjusting periods with transitions for WS16...\n",
      "✅ Final periods updated: 32 entries.\n"
     ]
    }
   ],
   "source": [
    "# 🔍 Detect Transitions (Activity-based)\n",
    "debug_data = world.period_manager.detect_transitions(\n",
    "    threshold_pos=0.1, threshold_neg=-0.05, smooth_sigma=2, freq=\"1min\", debug=False\n",
    ")\n",
    "if debug_data:\n",
    "    Displayer.run_plotly_dash_export_app(\n",
    "        plot_func=Displayer.plotter.plot_transition_debug_activity,\n",
    "        plot_kwargs={\n",
    "            \"activity_series\": debug_data[\"activity_series\"],\n",
    "            \"smoothed\": debug_data[\"smoothed\"],\n",
    "            \"norm_derivative\": debug_data[\"norm_derivative\"],\n",
    "            \"transition_df\": debug_data[\"transition_df\"],\n",
    "            \"experiment_id\": world.experiment_id,\n",
    "            \"smooth_sigma\": debug_data[\"smooth_sigma\"],\n",
    "        },\n",
    "        title=\"Transition Debug Activity\",\n",
    "        output_basename=\"transition_debug\"\n",
    "    )\n"
   ]
  },
  {
   "cell_type": "code",
   "execution_count": 7,
   "id": "e34020d3-eddd-43f9-82a1-800135d6ff65",
   "metadata": {
    "execution": {
     "iopub.execute_input": "2025-06-14T12:02:55.711394Z",
     "iopub.status.busy": "2025-06-14T12:02:55.711394Z",
     "iopub.status.idle": "2025-06-14T12:02:56.051154Z",
     "shell.execute_reply": "2025-06-14T12:02:56.051154Z",
     "shell.execute_reply.started": "2025-06-14T12:02:55.711394Z"
    },
    "scrolled": true,
    "tags": []
   },
   "outputs": [],
   "source": [
    "simil = MatrixSimilarity()\n",
    "activity_signature = simil.compute_activity_matrix(\n",
    "    world.period_manager.final_period_df, world.signatures\n",
    ")\n",
    "\n",
    "cosine_signature, signature_group = simil.compute_cosine_similarity(\n",
    "    activity_input=activity_signature,\n",
    "    reordered=True,\n",
    "    num_groups=3,\n",
    "    return_groups=True,\n",
    ")\n",
    "world.define_areas_by_group(signature_group)\n"
   ]
  },
  {
   "cell_type": "code",
   "execution_count": 8,
   "id": "5b8055e9-3889-4bdd-a09e-2256b32ac54c",
   "metadata": {
    "execution": {
     "iopub.execute_input": "2025-06-14T12:02:56.051154Z",
     "iopub.status.busy": "2025-06-14T12:02:56.051154Z",
     "iopub.status.idle": "2025-06-14T12:03:45.763729Z",
     "shell.execute_reply": "2025-06-14T12:03:45.763729Z",
     "shell.execute_reply.started": "2025-06-14T12:02:56.051154Z"
    },
    "tags": []
   },
   "outputs": [
    {
     "name": "stdout",
     "output_type": "stream",
     "text": [
      "✅ Assigned 138 agents with position over time.\n"
     ]
    }
   ],
   "source": [
    "world.assign_agents_to_areas_over_time(freq=\"20s\")"
   ]
  },
  {
   "cell_type": "code",
   "execution_count": 9,
   "id": "6d2c9637-fbf9-4742-a58f-64bed539452e",
   "metadata": {
    "execution": {
     "iopub.execute_input": "2025-06-14T12:03:45.765753Z",
     "iopub.status.busy": "2025-06-14T12:03:45.765753Z",
     "iopub.status.idle": "2025-06-14T12:03:55.589810Z",
     "shell.execute_reply": "2025-06-14T12:03:55.589810Z",
     "shell.execute_reply.started": "2025-06-14T12:03:45.765753Z"
    }
   },
   "outputs": [],
   "source": [
    "world.compute_active_agent_to_area()"
   ]
  },
  {
   "cell_type": "code",
   "execution_count": 10,
   "id": "1038f1d5-3a9f-4371-ab12-45798fe460e3",
   "metadata": {
    "execution": {
     "iopub.execute_input": "2025-06-14T12:03:55.589810Z",
     "iopub.status.busy": "2025-06-14T12:03:55.589810Z",
     "iopub.status.idle": "2025-06-14T12:03:58.125629Z",
     "shell.execute_reply": "2025-06-14T12:03:58.125629Z",
     "shell.execute_reply.started": "2025-06-14T12:03:55.589810Z"
    }
   },
   "outputs": [],
   "source": [
    "Networker = NetworkManager()\n",
    "Networker.build_area_transition_graph(world)\n",
    "Networker.build_temporal_area_transition_graphs(world)"
   ]
  },
  {
   "cell_type": "code",
   "execution_count": 37,
   "id": "b55c68c5-abc6-48dc-93dc-dda0d3411d48",
   "metadata": {
    "execution": {
     "iopub.execute_input": "2025-06-14T12:09:22.361197Z",
     "iopub.status.busy": "2025-06-14T12:09:22.360207Z",
     "iopub.status.idle": "2025-06-14T12:09:36.055928Z",
     "shell.execute_reply": "2025-06-14T12:09:36.055821Z",
     "shell.execute_reply.started": "2025-06-14T12:09:22.361197Z"
    }
   },
   "outputs": [
    {
     "name": "stdout",
     "output_type": "stream",
     "text": [
      "✅ Built fixed-window temporal contact graphs in all Area objects.\n"
     ]
    }
   ],
   "source": [
    "Networker.build_temporal_agent_graphs_by_area(world,'10min')"
   ]
  },
  {
   "cell_type": "markdown",
   "id": "cb46dc2a-678f-480e-b391-80882e022a00",
   "metadata": {
    "execution": {
     "iopub.execute_input": "2025-06-12T13:27:17.551790Z",
     "iopub.status.busy": "2025-06-12T13:27:17.551790Z",
     "iopub.status.idle": "2025-06-12T13:27:19.633791Z",
     "shell.execute_reply": "2025-06-12T13:27:19.633791Z",
     "shell.execute_reply.started": "2025-06-12T13:27:17.551790Z"
    }
   },
   "source": [
    "experiment_id = world.experiment_id\n",
    "scale = experiment_display_scale[experiment_id]\n",
    "\n",
    "# Run the Dash export app directly with the display method\n",
    "Displayer.run_plotly_dash_export_app(\n",
    "    plot_func=Displayer.mapper.display,\n",
    "    plot_kwargs={\"scale\": scale, \"show_outline\": True,\"activity_threshold\": 0.01},\n",
    "    title=f\"Map View - {experiment_id}\",\n",
    "    output_basename=f\"map_{experiment_id}\"\n",
    ")\n"
   ]
  },
  {
   "cell_type": "code",
   "execution_count": 39,
   "id": "6e4741a9-15b5-468d-9c93-13116c5b82cd",
   "metadata": {
    "execution": {
     "iopub.execute_input": "2025-06-14T12:09:36.264952Z",
     "iopub.status.busy": "2025-06-14T12:09:36.264952Z",
     "iopub.status.idle": "2025-06-14T12:09:36.288973Z",
     "shell.execute_reply": "2025-06-14T12:09:36.288973Z",
     "shell.execute_reply.started": "2025-06-14T12:09:36.264952Z"
    }
   },
   "outputs": [
    {
     "name": "stdout",
     "output_type": "stream",
     "text": [
      "[i] Cleared 3 old .csv file(s) in 'densification_data'.\n",
      "[✓] Saved: densification_data\\nm_posterroom_2.csv\n",
      "[✓] Saved: densification_data\\nm_foyer_1.csv\n",
      "[✓] Saved: densification_data\\nm_mainroom_3.csv\n"
     ]
    }
   ],
   "source": [
    "Networker.export_node_edge_timeseries_per_area(world)\n"
   ]
  },
  {
   "cell_type": "markdown",
   "id": "a1ff460e-cf35-41c1-95fe-0edbeadf5da1",
   "metadata": {
    "execution": {
     "iopub.execute_input": "2025-06-12T13:27:19.633791Z",
     "iopub.status.busy": "2025-06-12T13:27:19.633791Z",
     "iopub.status.idle": "2025-06-12T13:27:20.065348Z",
     "shell.execute_reply": "2025-06-12T13:27:20.065348Z",
     "shell.execute_reply.started": "2025-06-12T13:27:19.633791Z"
    }
   },
   "source": [
    "Displayer.networker.plot_node_edge_distribution_per_area(world)"
   ]
  },
  {
   "cell_type": "markdown",
   "id": "5f5a8c22-9a98-413d-b0fa-e29eae137508",
   "metadata": {
    "execution": {
     "iopub.execute_input": "2025-06-12T13:27:20.073355Z",
     "iopub.status.busy": "2025-06-12T13:27:20.073355Z",
     "iopub.status.idle": "2025-06-12T13:27:20.240010Z",
     "shell.execute_reply": "2025-06-12T13:27:20.240010Z",
     "shell.execute_reply.started": "2025-06-12T13:27:20.073355Z"
    }
   },
   "source": [
    "Displayer.networker.plot_area_transition_sankey(Networker.area_transition_graph,world)"
   ]
  },
  {
   "cell_type": "markdown",
   "id": "b1060c7a-0427-437a-9a8f-ba2bbc0a7887",
   "metadata": {
    "execution": {
     "iopub.execute_input": "2025-06-12T13:27:20.240010Z",
     "iopub.status.busy": "2025-06-12T13:27:20.240010Z",
     "iopub.status.idle": "2025-06-12T13:27:20.377459Z",
     "shell.execute_reply": "2025-06-12T13:27:20.377459Z",
     "shell.execute_reply.started": "2025-06-12T13:27:20.240010Z"
    }
   },
   "source": [
    "world.compute_agents_entropies()"
   ]
  },
  {
   "cell_type": "markdown",
   "id": "fff25991-7d6f-42ef-ba20-7feaa68b618b",
   "metadata": {
    "execution": {
     "iopub.execute_input": "2025-06-12T13:27:20.377459Z",
     "iopub.status.busy": "2025-06-12T13:27:20.377459Z",
     "iopub.status.idle": "2025-06-12T13:27:20.422982Z",
     "shell.execute_reply": "2025-06-12T13:27:20.422982Z",
     "shell.execute_reply.started": "2025-06-12T13:27:20.377459Z"
    }
   },
   "source": [
    "Displayer.plotter.plot_agent_entropy_distribution(world.agents)"
   ]
  },
  {
   "cell_type": "markdown",
   "id": "ac509049-a0f7-4c0f-8863-0a1e156eea87",
   "metadata": {
    "execution": {
     "iopub.execute_input": "2025-06-12T13:27:20.422982Z",
     "iopub.status.busy": "2025-06-12T13:27:20.422982Z",
     "iopub.status.idle": "2025-06-12T13:27:20.705240Z",
     "shell.execute_reply": "2025-06-12T13:27:20.705240Z",
     "shell.execute_reply.started": "2025-06-12T13:27:20.422982Z"
    }
   },
   "source": [
    "# === 🔄 Networker Method ===\n",
    "Displayer.networker.run_dash(Networker.area_transition_graph)"
   ]
  },
  {
   "cell_type": "markdown",
   "id": "58fc24bd-64d8-4825-bae3-48853f5d4118",
   "metadata": {
    "execution": {
     "iopub.execute_input": "2025-06-12T13:27:20.705240Z",
     "iopub.status.busy": "2025-06-12T13:27:20.705240Z",
     "iopub.status.idle": "2025-06-12T13:27:22.201577Z",
     "shell.execute_reply": "2025-06-12T13:27:22.201577Z",
     "shell.execute_reply.started": "2025-06-12T13:27:20.705240Z"
    }
   },
   "source": [
    "# === 📈 Plotter Methods ===\n",
    "Displayer.plotter.plot_normalized_activity(\n",
    "    entities=world.areas,\n",
    "    experiment_id=world.experiment_id,\n",
    "    mode_label=\"areas\",\n",
    "    title_suffix=\"\",\n",
    "    show_total=True,\n",
    "    sort_by_activity=True,\n",
    "    df_period=world.period_manager.final_period_df,\n",
    ")"
   ]
  },
  {
   "cell_type": "markdown",
   "id": "42818459-283c-4b78-833c-ce7c3305a0d9",
   "metadata": {
    "execution": {
     "iopub.execute_input": "2025-06-12T13:27:22.201577Z",
     "iopub.status.busy": "2025-06-12T13:27:22.201577Z",
     "iopub.status.idle": "2025-06-12T13:27:22.320139Z",
     "shell.execute_reply": "2025-06-12T13:27:22.312134Z",
     "shell.execute_reply.started": "2025-06-12T13:27:22.201577Z"
    }
   },
   "source": [
    "Displayer.plotter.plot_signature_distributions()"
   ]
  },
  {
   "cell_type": "markdown",
   "id": "dcb544f3-f8a8-4ce4-8bb3-57d3972d4598",
   "metadata": {
    "execution": {
     "iopub.execute_input": "2025-06-12T13:27:22.328142Z",
     "iopub.status.busy": "2025-06-12T13:27:22.328142Z",
     "iopub.status.idle": "2025-06-12T13:27:23.057956Z",
     "shell.execute_reply": "2025-06-12T13:27:23.057956Z",
     "shell.execute_reply.started": "2025-06-12T13:27:22.328142Z"
    }
   },
   "source": [
    "Displayer.plotter.periods_df = world.period_manager.final_period_df\n",
    "Displayer.plotter.report_world_model()"
   ]
  },
  {
   "cell_type": "markdown",
   "id": "38cde508-e062-447d-9353-aedf638c0815",
   "metadata": {
    "execution": {
     "iopub.execute_input": "2025-06-12T13:27:23.057956Z",
     "iopub.status.busy": "2025-06-12T13:27:23.057956Z",
     "iopub.status.idle": "2025-06-12T13:27:23.100575Z",
     "shell.execute_reply": "2025-06-12T13:27:23.100575Z",
     "shell.execute_reply.started": "2025-06-12T13:27:23.057956Z"
    }
   },
   "source": [
    "Displayer.plotter.report_periods()"
   ]
  },
  {
   "cell_type": "markdown",
   "id": "7085d22c-4141-445a-9530-d4baf240ed56",
   "metadata": {
    "execution": {
     "iopub.execute_input": "2025-06-12T13:27:23.100575Z",
     "iopub.status.busy": "2025-06-12T13:27:23.100575Z",
     "iopub.status.idle": "2025-06-12T13:27:23.224598Z",
     "shell.execute_reply": "2025-06-12T13:27:23.224598Z",
     "shell.execute_reply.started": "2025-06-12T13:27:23.100575Z"
    }
   },
   "source": [
    "Displayer.matrixer.plot_activity_matrix(\n",
    "        matrix=activity_signature,\n",
    "        title=f\"Activity Matrix — Experiment: {experiment_id}\",\n",
    "        xlabel=\"Period\",\n",
    "        ylabel=\"Entity\",\n",
    "        cmap=\"Viridis\",\n",
    "        linewidth=0.5,\n",
    "        linecolor=\"gray\",\n",
    "        annot=False,\n",
    "        fmt=\".0f\",\n",
    "    )"
   ]
  },
  {
   "cell_type": "markdown",
   "id": "b1224388-6d81-4490-83d2-1edd3aa55fff",
   "metadata": {
    "execution": {
     "iopub.execute_input": "2025-06-12T13:27:23.224598Z",
     "iopub.status.busy": "2025-06-12T13:27:23.224598Z",
     "iopub.status.idle": "2025-06-12T13:27:23.343823Z",
     "shell.execute_reply": "2025-06-12T13:27:23.343823Z",
     "shell.execute_reply.started": "2025-06-12T13:27:23.224598Z"
    }
   },
   "source": [
    "\n",
    "\n",
    "Displayer.matrixer.plot_cosine_similarity_matrix(\n",
    "    cos_sim_df=cosine_signature,\n",
    "    title=f\"Cosine Similarity Between Signatures — Experiment: {experiment_id}\",\n",
    "    cmap=\"Viridis\",\n",
    "    linewidth=0.5,\n",
    "    linecolor=\"gray\",\n",
    "    annot=False,\n",
    "    fmt=\".2f\",\n",
    ")"
   ]
  },
  {
   "cell_type": "markdown",
   "id": "fe3aae05-f290-4083-b49c-3ade7fec04d0",
   "metadata": {
    "execution": {
     "iopub.execute_input": "2025-06-12T13:27:23.343823Z",
     "iopub.status.busy": "2025-06-12T13:27:23.343823Z",
     "iopub.status.idle": "2025-06-12T13:27:52.182353Z",
     "shell.execute_reply": "2025-06-12T13:27:52.182353Z",
     "shell.execute_reply.started": "2025-06-12T13:27:23.343823Z"
    }
   },
   "source": [
    "# === 🗺️ Mapper Methods ===\n",
    "Displayer.mapper.display(scale=experiment_display_scale[experiment_id])\n",
    "\n",
    "Displayer.mapper.plot_animated_signature_activity(\n",
    "    grid_size=(20, 20),\n",
    "    sigma=0.4,\n",
    "    scale=experiment_display_scale[experiment_id],\n",
    "    heatmap_opacity=0.8,\n",
    "    time_bin=\"30min\"\n",
    ")\n"
   ]
  },
  {
   "cell_type": "code",
   "execution_count": null,
   "id": "a577f9ab-0b2f-4d6d-a8d7-5a9695c3efd5",
   "metadata": {},
   "outputs": [],
   "source": []
  }
 ],
 "metadata": {
  "kernelspec": {
   "display_name": "Python [conda env:base] *",
   "language": "python",
   "name": "conda-base-py"
  },
  "language_info": {
   "codemirror_mode": {
    "name": "ipython",
    "version": 3
   },
   "file_extension": ".py",
   "mimetype": "text/x-python",
   "name": "python",
   "nbconvert_exporter": "python",
   "pygments_lexer": "ipython3",
   "version": "3.12.3"
  },
  "toc-autonumbering": true
 },
 "nbformat": 4,
 "nbformat_minor": 5
}
