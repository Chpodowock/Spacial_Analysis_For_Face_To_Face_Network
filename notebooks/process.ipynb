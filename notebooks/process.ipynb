{
 "cells": [
  {
   "cell_type": "code",
   "execution_count": null,
   "id": "5fa16ac7-51a9-4e8f-89df-f83299e3b3ca",
   "metadata": {},
   "outputs": [],
   "source": []
  },
  {
   "cell_type": "code",
   "execution_count": null,
   "id": "c03f86af-e65f-44db-89a4-0e8115cde4b3",
   "metadata": {},
   "outputs": [],
   "source": [
    "#pip install scipy\n",
    "#pip install shapely\n",
    "#pip install dash\n",
    "#pip install networkx\n",
    "#pip install scikit-learn"
   ]
  },
  {
   "cell_type": "markdown",
   "id": "21d32b7f-71b6-4215-82cb-8eee3f3480bc",
   "metadata": {},
   "source": [
    "# 🚀 Experiment Execution Flow"
   ]
  },
  {
   "cell_type": "code",
   "execution_count": null,
   "id": "831d7e2c-19ec-4630-8c76-5a94d7ff1de9",
   "metadata": {
    "tags": []
   },
   "outputs": [],
   "source": [
    "import sys\n",
    "from pathlib import Path\n",
    "\n",
    "base_dir = Path.cwd().parent\n",
    "src_path = base_dir / \"src\"\n",
    "\n",
    "if str(src_path) not in sys.path:\n",
    "    sys.path.append(str(src_path))\n",
    "\n",
    "    \n",
    "from project_setup import (\n",
    "    setup_paths,\n",
    "    load_experiments_dict,\n",
    "    import_and_reload_modules\n",
    ")\n",
    "\n",
    "# Set paths and load experiments\n",
    "base_dir, src_path = setup_paths()\n",
    "experiments_definition = load_experiments_dict(\"experiments_config.json\")\n",
    "\n",
    "# Import project classes\n",
    "WorldModel, DisplayManager, MatrixSimilarity, NetworkManager = import_and_reload_modules()\n",
    "\n",
    "# Plotly settings\n",
    "import plotly.io as pio\n",
    "pio.renderers.default = \"iframe_connected\"\n",
    "\n",
    "# Experiment configuration\n",
    "experiment_id = \"WS16\"\n",
    "experiment_display_scale = {\n",
    "    \"ECIR19\": 0.28,\n",
    "    \"ECSS18\": 0.15,\n",
    "    \"ICCSS17\": 0.3,\n",
    "    \"WS16\": 0.15\n",
    "}\n",
    "\n",
    "# Initialize world & displayer\n",
    "world = WorldModel(experiment_id, experiments_definition, base_dir)\n",
    "world.initialize()\n",
    "\n",
    "Displayer = DisplayManager(world)\n"
   ]
  },
  {
   "cell_type": "markdown",
   "id": "0a859a00-0ba5-465e-9790-a92528ab24cc",
   "metadata": {},
   "source": [
    "## 🔄 Period Detection & Adjustment Pipeline"
   ]
  },
  {
   "cell_type": "code",
   "execution_count": null,
   "id": "1973558c-eae5-40b4-b8e2-1fd490553485",
   "metadata": {
    "tags": []
   },
   "outputs": [],
   "source": [
    "# 🔍 Detect Transitions (Activity-based)\n",
    "debug_data = world.period_manager.detect_transitions(\n",
    "    threshold_pos=0.1, threshold_neg=-0.05, smooth_sigma=2, freq=\"1min\", debug=False\n",
    ")\n",
    "if debug_data:\n",
    "    Displayer.plotter.plot_transition_debug_activity(\n",
    "        activity_series=debug_data[\"activity_series\"],\n",
    "        smoothed=debug_data[\"smoothed\"],\n",
    "        norm_derivative=debug_data[\"norm_derivative\"],\n",
    "        transition_df=debug_data[\"transition_df\"],\n",
    "        experiment_id=world.experiment_id,\n",
    "        smooth_sigma=debug_data[\"smooth_sigma\"],\n",
    "    )"
   ]
  },
  {
   "cell_type": "code",
   "execution_count": null,
   "id": "e34020d3-eddd-43f9-82a1-800135d6ff65",
   "metadata": {
    "scrolled": true,
    "tags": []
   },
   "outputs": [],
   "source": [
    "simil = MatrixSimilarity()\n",
    "activity_signature = simil.compute_activity_matrix(\n",
    "    world.period_manager.final_period_df, world.signatures\n",
    ")\n",
    "\n",
    "cosine_signature, signature_group = simil.compute_cosine_similarity(\n",
    "    activity_input=activity_signature,\n",
    "    reordered=True,\n",
    "    num_groups=8,\n",
    "    return_groups=True,\n",
    ")\n",
    "world.define_areas_by_group(signature_group)\n"
   ]
  },
  {
   "cell_type": "code",
   "execution_count": null,
   "id": "5b8055e9-3889-4bdd-a09e-2256b32ac54c",
   "metadata": {
    "tags": []
   },
   "outputs": [],
   "source": [
    "world.assign_agents_to_areas_over_time(freq=\"20s\")"
   ]
  },
  {
   "cell_type": "code",
   "execution_count": null,
   "id": "6d2c9637-fbf9-4742-a58f-64bed539452e",
   "metadata": {},
   "outputs": [],
   "source": [
    "world.compute_active_agent_to_area()"
   ]
  },
  {
   "cell_type": "code",
   "execution_count": null,
   "id": "1038f1d5-3a9f-4371-ab12-45798fe460e3",
   "metadata": {},
   "outputs": [],
   "source": [
    "Networker = NetworkManager()\n",
    "Networker.build_area_transition_graph(world)\n",
    "Networker.build_temporal_area_transition_graphs(world)"
   ]
  },
  {
   "cell_type": "code",
   "execution_count": null,
   "id": "24df6bb6-a303-44c1-af37-881eb30c8739",
   "metadata": {},
   "outputs": [],
   "source": [
    "Networker.build_temporal_agent_graphs_by_area(world,'20s')"
   ]
  },
  {
   "cell_type": "code",
   "execution_count": null,
   "id": "cccc952b-02fd-4057-9877-8adb44343d12",
   "metadata": {},
   "outputs": [],
   "source": [
    "Displayer.mapper.display(scale=experiment_display_scale[experiment_id])"
   ]
  },
  {
   "cell_type": "code",
   "execution_count": null,
   "id": "d28f9a2c-f5cd-472c-b853-ea8e0639b14f",
   "metadata": {},
   "outputs": [],
   "source": [
    "Displayer.networker.plot_node_edge_distribution_per_area(world)"
   ]
  },
  {
   "cell_type": "code",
   "execution_count": null,
   "id": "092dcb90-e47d-4f8f-9c6c-d6915c74deb6",
   "metadata": {},
   "outputs": [],
   "source": [
    "Displayer.networker.plot_area_transition_sankey(Networker.area_transition_graph,world)"
   ]
  },
  {
   "cell_type": "code",
   "execution_count": null,
   "id": "64395ea4-16ac-419c-be14-e384f58326d4",
   "metadata": {},
   "outputs": [],
   "source": [
    "world.compute_agents_entropies()"
   ]
  },
  {
   "cell_type": "code",
   "execution_count": null,
   "id": "ee7f4717-8b27-4e02-8b2e-7288f3c0de5a",
   "metadata": {},
   "outputs": [],
   "source": [
    "Displayer.plotter.plot_agent_entropy_distribution(world.agents)"
   ]
  },
  {
   "cell_type": "code",
   "execution_count": null,
   "id": "8c016d47-d862-4272-ba56-0ec86ce9b6ed",
   "metadata": {},
   "outputs": [],
   "source": [
    "# === 🔄 Networker Method ===\n",
    "Displayer.networker.run_dash(Networker.area_transition_graph)"
   ]
  },
  {
   "cell_type": "markdown",
   "id": "151ce4ca-021c-44ee-bca8-58f01b48e2f6",
   "metadata": {},
   "source": [
    "# === 📈 Plotter Methods ===\n",
    "Displayer.plotter.plot_normalized_activity(\n",
    "    entities=world.areas,\n",
    "    experiment_id=world.experiment_id,\n",
    "    mode_label=\"areas\",\n",
    "    title_suffix=\"\",\n",
    "    show_total=True,\n",
    "    sort_by_activity=True,\n",
    "    df_period=world.period_manager.final_period_df,\n",
    ")\n",
    "\n",
    "Displayer.plotter.plot_signature_distributions()\n",
    "\n",
    "Displayer.plotter.periods_df = world.period_manager.final_period_df\n",
    "\n",
    "\n",
    "Displayer.plotter.report_world_model()\n",
    "Displayer.plotter.report_periods()"
   ]
  },
  {
   "cell_type": "markdown",
   "id": "4104969d-b663-4001-a389-c8e0b42fd508",
   "metadata": {},
   "source": [
    "# === 🧩 Matrixer Method ===\n",
    "Displayer.matrixer.plot_cosine_similarity_matrix(\n",
    "    cos_sim_df=cosine_signature,\n",
    "    title=f\"Cosine Similarity Between Signatures — Experiment: {experiment_id}\",\n",
    "    cmap=\"Viridis\",\n",
    "    linewidth=0.5,\n",
    "    linecolor=\"gray\",\n",
    "    annot=False,\n",
    "    fmt=\".2f\",\n",
    ")"
   ]
  },
  {
   "cell_type": "markdown",
   "id": "07ae4684-2c8e-4a7b-96e7-aec12e884b1b",
   "metadata": {},
   "source": [
    "# === 🗺️ Mapper Methods ===\n",
    "Displayer.mapper.display(scale=experiment_display_scale[experiment_id])\n",
    "\n",
    "Displayer.mapper.plot_animated_signature_activity(\n",
    "    grid_size=(20, 20),\n",
    "    sigma=0.4,\n",
    "    scale=experiment_display_scale[experiment_id],\n",
    "    heatmap_opacity=0.8,\n",
    "    time_bin=\"30min\"\n",
    ")\n"
   ]
  }
 ],
 "metadata": {
  "kernelspec": {
   "display_name": "Python [conda env:base] *",
   "language": "python",
   "name": "conda-base-py"
  },
  "language_info": {
   "codemirror_mode": {
    "name": "ipython",
    "version": 3
   },
   "file_extension": ".py",
   "mimetype": "text/x-python",
   "name": "python",
   "nbconvert_exporter": "python",
   "pygments_lexer": "ipython3",
   "version": "3.12.7"
  },
  "toc-autonumbering": true
 },
 "nbformat": 4,
 "nbformat_minor": 5
}
